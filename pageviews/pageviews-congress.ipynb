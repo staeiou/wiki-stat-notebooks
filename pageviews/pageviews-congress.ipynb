{
 "cells": [
  {
   "cell_type": "markdown",
   "metadata": {},
   "source": [
    "## Libraries\n",
    "\n",
    "We're using mwviews for getting the pageview data, pandas for the dataframe, and seaborn/matplotlib for plotting. pywikibot is in here because I tried to use it to get titles programmatically, but gave up."
   ]
  },
  {
   "cell_type": "code",
   "execution_count": 1,
   "metadata": {
    "collapsed": false
   },
   "outputs": [
    {
     "name": "stdout",
     "output_type": "stream",
     "text": [
      "Requirement already satisfied: mwviews in /srv/paws/lib/python3.4/site-packages\n",
      "Requirement already satisfied: pywikibot in /srv/paws/pwb\n",
      "Requirement already satisfied: seaborn in /srv/paws/lib/python3.4/site-packages\n",
      "Requirement already satisfied: pandas in /srv/paws/lib/python3.4/site-packages\n",
      "Requirement already satisfied: requests in /srv/paws/lib/python3.4/site-packages (from mwviews)\n",
      "Requirement already satisfied: futures in /srv/paws/lib/python3.4/site-packages (from mwviews)\n",
      "Requirement already satisfied: python-dateutil>=2 in /srv/paws/lib/python3.4/site-packages (from pandas)\n",
      "Requirement already satisfied: pytz>=2011k in /srv/paws/lib/python3.4/site-packages (from pandas)\n",
      "Requirement already satisfied: numpy>=1.7.0 in /srv/paws/lib/python3.4/site-packages (from pandas)\n",
      "Requirement already satisfied: six>=1.5 in /srv/paws/lib/python3.4/site-packages (from python-dateutil>=2->pandas)\n"
     ]
    }
   ],
   "source": [
    "!pip install mwviews pywikibot seaborn pandas"
   ]
  },
  {
   "cell_type": "code",
   "execution_count": 2,
   "metadata": {
    "collapsed": true
   },
   "outputs": [],
   "source": [
    "import pywikibot\n",
    "import mwviews\n",
    "import seaborn as sns\n",
    "import pandas as pd\n",
    "%matplotlib inline"
   ]
  },
  {
   "cell_type": "markdown",
   "metadata": {
    "collapsed": true
   },
   "source": [
    "## Data\n",
    "\n",
    "The .txt files are manually curated lists of titles, based on manually copying and pasting the columns at \n",
    "http://enwp.org/List_of_United_States_Senators_in_the_115th_Congress_by_seniority and http://enwp.org/List_of_United_States_Representatives_in_the_115th_Congress_by_seniority. This is not ideal, because there are some pages that redirect, e.g. http://enwp.org/Dan_Sullivan is a redirect page, while his article is at http://enwp.org/Dan_Sullivan_(U.S._Senator). \n",
    "\n",
    "I tried programmatically getting lists of all current members of Congress, my failed attempts can be found at the end.\n"
   ]
  },
  {
   "cell_type": "markdown",
   "metadata": {},
   "source": [
    "The files have one title per line, so we read it in and split it into a list with ```.split(\"\\n\")```"
   ]
  },
  {
   "cell_type": "code",
   "execution_count": 3,
   "metadata": {
    "collapsed": true
   },
   "outputs": [],
   "source": [
    "with open(\"pageview/senators.txt\") as f:\n",
    "    sen_txt = f.read()\n",
    "\n",
    "sen_list = sen_txt.split(\"\\n\")"
   ]
  },
  {
   "cell_type": "code",
   "execution_count": 26,
   "metadata": {
    "collapsed": false
   },
   "outputs": [
    {
     "data": {
      "text/plain": [
       "['Richard Shelby',\n",
       " 'Luther Strange',\n",
       " 'Lisa Murkowski',\n",
       " 'Dan Sullivan',\n",
       " 'John McCain']"
      ]
     },
     "execution_count": 26,
     "metadata": {},
     "output_type": "execute_result"
    }
   ],
   "source": [
    "sen_list[0:5]"
   ]
  },
  {
   "cell_type": "markdown",
   "metadata": {},
   "source": [
    "Checking the length of the list, we see it has 100, which is good! "
   ]
  },
  {
   "cell_type": "code",
   "execution_count": 28,
   "metadata": {
    "collapsed": false
   },
   "outputs": [
    {
     "data": {
      "text/plain": [
       "100"
      ]
     },
     "execution_count": 28,
     "metadata": {},
     "output_type": "execute_result"
    }
   ],
   "source": [
    "len(sen_list)"
   ]
  },
  {
   "cell_type": "code",
   "execution_count": 29,
   "metadata": {
    "collapsed": true
   },
   "outputs": [],
   "source": [
    "with open(\"pageview/house_reps.txt\") as f:\n",
    "    house_txt = f.read()"
   ]
  },
  {
   "cell_type": "code",
   "execution_count": 30,
   "metadata": {
    "collapsed": false
   },
   "outputs": [
    {
     "data": {
      "text/plain": [
       "434"
      ]
     },
     "execution_count": 30,
     "metadata": {},
     "output_type": "execute_result"
    }
   ],
   "source": [
    "house_list = house_txt.split(\"\\n\")\n",
    "len(house_list)"
   ]
  },
  {
   "cell_type": "markdown",
   "metadata": {},
   "source": [
    "## Querying the pageviews API\n",
    "\n",
    "mwviews makes this easier, so we don't have to directly call the API. We can also pass in a (very long!) list of pages to get data. We get back a nice JSON formatted response, which pandas can convert to a dataframe without any help."
   ]
  },
  {
   "cell_type": "code",
   "execution_count": 7,
   "metadata": {
    "collapsed": true
   },
   "outputs": [],
   "source": [
    "from mwviews.api import PageviewsClient\n",
    "\n",
    "p = PageviewsClient()"
   ]
  },
  {
   "cell_type": "code",
   "execution_count": 8,
   "metadata": {
    "collapsed": false
   },
   "outputs": [],
   "source": [
    "sen_views = p.article_views('en.wikipedia', sen_list, granularity='monthly', start='2016040100', end='2017033100')\n",
    "sen_df = pd.DataFrame(sen_views)"
   ]
  },
  {
   "cell_type": "markdown",
   "metadata": {},
   "source": [
    "If we peek at the first five rows and columns in the dataframe, we see it is formatted with one row per page, and one column per month:"
   ]
  },
  {
   "cell_type": "code",
   "execution_count": 9,
   "metadata": {
    "collapsed": false
   },
   "outputs": [
    {
     "data": {
      "text/html": [
       "<div>\n",
       "<table border=\"1\" class=\"dataframe\">\n",
       "  <thead>\n",
       "    <tr style=\"text-align: right;\">\n",
       "      <th></th>\n",
       "      <th>2016-04-01 00:00:00</th>\n",
       "      <th>2016-05-01 00:00:00</th>\n",
       "      <th>2016-06-01 00:00:00</th>\n",
       "      <th>2016-07-01 00:00:00</th>\n",
       "      <th>2016-08-01 00:00:00</th>\n",
       "    </tr>\n",
       "  </thead>\n",
       "  <tbody>\n",
       "    <tr>\n",
       "      <th>Al_Franken</th>\n",
       "      <td>43087</td>\n",
       "      <td>66366</td>\n",
       "      <td>53539</td>\n",
       "      <td>143641</td>\n",
       "      <td>37679</td>\n",
       "    </tr>\n",
       "    <tr>\n",
       "      <th>Amy_Klobuchar</th>\n",
       "      <td>19740</td>\n",
       "      <td>16663</td>\n",
       "      <td>19394</td>\n",
       "      <td>36931</td>\n",
       "      <td>10618</td>\n",
       "    </tr>\n",
       "    <tr>\n",
       "      <th>Angus_King</th>\n",
       "      <td>13951</td>\n",
       "      <td>13341</td>\n",
       "      <td>16458</td>\n",
       "      <td>16043</td>\n",
       "      <td>15773</td>\n",
       "    </tr>\n",
       "    <tr>\n",
       "      <th>Ben_Cardin</th>\n",
       "      <td>7733</td>\n",
       "      <td>5532</td>\n",
       "      <td>7198</td>\n",
       "      <td>6656</td>\n",
       "      <td>6384</td>\n",
       "    </tr>\n",
       "    <tr>\n",
       "      <th>Ben_Sasse</th>\n",
       "      <td>9943</td>\n",
       "      <td>78686</td>\n",
       "      <td>22201</td>\n",
       "      <td>21502</td>\n",
       "      <td>11996</td>\n",
       "    </tr>\n",
       "  </tbody>\n",
       "</table>\n",
       "</div>"
      ],
      "text/plain": [
       "               2016-04-01  2016-05-01  2016-06-01  2016-07-01  2016-08-01\n",
       "Al_Franken          43087       66366       53539      143641       37679\n",
       "Amy_Klobuchar       19740       16663       19394       36931       10618\n",
       "Angus_King          13951       13341       16458       16043       15773\n",
       "Ben_Cardin           7733        5532        7198        6656        6384\n",
       "Ben_Sasse            9943       78686       22201       21502       11996"
      ]
     },
     "execution_count": 9,
     "metadata": {},
     "output_type": "execute_result"
    }
   ],
   "source": [
    "sen_df.ix[0:5, 0:5]"
   ]
  },
  {
   "cell_type": "markdown",
   "metadata": {},
   "source": [
    "We transpose this (switching rows and columns), then set the index of each row to a more readable string, Year-Month:"
   ]
  },
  {
   "cell_type": "code",
   "execution_count": 10,
   "metadata": {
    "collapsed": false
   },
   "outputs": [
    {
     "data": {
      "text/html": [
       "<div>\n",
       "<table border=\"1\" class=\"dataframe\">\n",
       "  <thead>\n",
       "    <tr style=\"text-align: right;\">\n",
       "      <th></th>\n",
       "      <th>Al_Franken</th>\n",
       "      <th>Amy_Klobuchar</th>\n",
       "      <th>Angus_King</th>\n",
       "      <th>Ben_Cardin</th>\n",
       "      <th>Ben_Sasse</th>\n",
       "    </tr>\n",
       "  </thead>\n",
       "  <tbody>\n",
       "    <tr>\n",
       "      <th>2016-04</th>\n",
       "      <td>43087</td>\n",
       "      <td>19740</td>\n",
       "      <td>13951</td>\n",
       "      <td>7733</td>\n",
       "      <td>9943</td>\n",
       "    </tr>\n",
       "    <tr>\n",
       "      <th>2016-05</th>\n",
       "      <td>66366</td>\n",
       "      <td>16663</td>\n",
       "      <td>13341</td>\n",
       "      <td>5532</td>\n",
       "      <td>78686</td>\n",
       "    </tr>\n",
       "    <tr>\n",
       "      <th>2016-06</th>\n",
       "      <td>53539</td>\n",
       "      <td>19394</td>\n",
       "      <td>16458</td>\n",
       "      <td>7198</td>\n",
       "      <td>22201</td>\n",
       "    </tr>\n",
       "    <tr>\n",
       "      <th>2016-07</th>\n",
       "      <td>143641</td>\n",
       "      <td>36931</td>\n",
       "      <td>16043</td>\n",
       "      <td>6656</td>\n",
       "      <td>21502</td>\n",
       "    </tr>\n",
       "    <tr>\n",
       "      <th>2016-08</th>\n",
       "      <td>37679</td>\n",
       "      <td>10618</td>\n",
       "      <td>15773</td>\n",
       "      <td>6384</td>\n",
       "      <td>11996</td>\n",
       "    </tr>\n",
       "  </tbody>\n",
       "</table>\n",
       "</div>"
      ],
      "text/plain": [
       "         Al_Franken  Amy_Klobuchar  Angus_King  Ben_Cardin  Ben_Sasse\n",
       "2016-04       43087          19740       13951        7733       9943\n",
       "2016-05       66366          16663       13341        5532      78686\n",
       "2016-06       53539          19394       16458        7198      22201\n",
       "2016-07      143641          36931       16043        6656      21502\n",
       "2016-08       37679          10618       15773        6384      11996"
      ]
     },
     "execution_count": 10,
     "metadata": {},
     "output_type": "execute_result"
    }
   ],
   "source": [
    "sen_df = sen_df.transpose()\n",
    "sen_df = sen_df.set_index(sen_df.index.strftime(\"%Y-%m\")).sort_index()\n",
    "sen_df.ix[0:5, 0:5]"
   ]
  },
  {
   "cell_type": "markdown",
   "metadata": {},
   "source": [
    "We can get the sum for each page by running .sum(), and we can peek into the first five pages:"
   ]
  },
  {
   "cell_type": "code",
   "execution_count": 11,
   "metadata": {
    "collapsed": false
   },
   "outputs": [
    {
     "data": {
      "text/plain": [
       "Al_Franken       1400454\n",
       "Amy_Klobuchar     340114\n",
       "Angus_King        281545\n",
       "Ben_Cardin        135774\n",
       "Ben_Sasse         384434\n",
       "dtype: int64"
      ]
     },
     "execution_count": 11,
     "metadata": {},
     "output_type": "execute_result"
    }
   ],
   "source": [
    "sen_sum = sen_df.sum()\n",
    "sen_sum[0:5]"
   ]
  },
  {
   "cell_type": "markdown",
   "metadata": {},
   "source": [
    "We can get the sum for each month by transposing back and running .sum() on the dataframe:"
   ]
  },
  {
   "cell_type": "code",
   "execution_count": 12,
   "metadata": {
    "collapsed": false
   },
   "outputs": [
    {
     "data": {
      "text/plain": [
       "2016-04    3898161\n",
       "2016-05    3461942\n",
       "2016-06    3274863\n",
       "2016-07    6619612\n",
       "2016-08    1979159\n",
       "2016-09    1972864\n",
       "2016-10    3600452\n",
       "2016-11    6286934\n",
       "2016-12    2303761\n",
       "2017-01    5699897\n",
       "2017-02    4833281\n",
       "2017-03    3827880\n",
       "dtype: int64"
      ]
     },
     "execution_count": 12,
     "metadata": {},
     "output_type": "execute_result"
    }
   ],
   "source": [
    "sen_monthly_sum = sen_df.transpose().sum()\n",
    "sen_monthly_sum"
   ]
  },
  {
   "cell_type": "markdown",
   "metadata": {},
   "source": [
    "And we can get the sum of all the months from 2016-04 to 2016-03 by summing the monthly sum:"
   ]
  },
  {
   "cell_type": "code",
   "execution_count": 13,
   "metadata": {
    "collapsed": false
   },
   "outputs": [
    {
     "data": {
      "text/plain": [
       "47758806"
      ]
     },
     "execution_count": 13,
     "metadata": {},
     "output_type": "execute_result"
    }
   ],
   "source": [
    "sen_monthly_sum.sum()"
   ]
  },
  {
   "cell_type": "code",
   "execution_count": null,
   "metadata": {
    "collapsed": true
   },
   "outputs": [],
   "source": []
  },
  {
   "cell_type": "code",
   "execution_count": 14,
   "metadata": {
    "collapsed": false
   },
   "outputs": [
    {
     "data": {
      "text/html": [
       "<div>\n",
       "<table border=\"1\" class=\"dataframe\">\n",
       "  <thead>\n",
       "    <tr style=\"text-align: right;\">\n",
       "      <th></th>\n",
       "      <th>2016-04-01 00:00:00</th>\n",
       "      <th>2016-05-01 00:00:00</th>\n",
       "      <th>2016-06-01 00:00:00</th>\n",
       "      <th>2016-07-01 00:00:00</th>\n",
       "      <th>2016-08-01 00:00:00</th>\n",
       "    </tr>\n",
       "  </thead>\n",
       "  <tbody>\n",
       "    <tr>\n",
       "      <th>Adam_Kinzinger</th>\n",
       "      <td>6579.0</td>\n",
       "      <td>10515.0</td>\n",
       "      <td>12002.0</td>\n",
       "      <td>7217.0</td>\n",
       "      <td>22613.0</td>\n",
       "    </tr>\n",
       "    <tr>\n",
       "      <th>Adam_Schiff</th>\n",
       "      <td>6541.0</td>\n",
       "      <td>6649.0</td>\n",
       "      <td>12993.0</td>\n",
       "      <td>7501.0</td>\n",
       "      <td>4760.0</td>\n",
       "    </tr>\n",
       "    <tr>\n",
       "      <th>Adam_Smith</th>\n",
       "      <td>100812.0</td>\n",
       "      <td>109709.0</td>\n",
       "      <td>131453.0</td>\n",
       "      <td>82231.0</td>\n",
       "      <td>88962.0</td>\n",
       "    </tr>\n",
       "    <tr>\n",
       "      <th>Adrian_Smith</th>\n",
       "      <td>24279.0</td>\n",
       "      <td>19297.0</td>\n",
       "      <td>18793.0</td>\n",
       "      <td>16760.0</td>\n",
       "      <td>15742.0</td>\n",
       "    </tr>\n",
       "    <tr>\n",
       "      <th>Adriano_Espaillat</th>\n",
       "      <td>1296.0</td>\n",
       "      <td>1061.0</td>\n",
       "      <td>5591.0</td>\n",
       "      <td>5360.0</td>\n",
       "      <td>1729.0</td>\n",
       "    </tr>\n",
       "  </tbody>\n",
       "</table>\n",
       "</div>"
      ],
      "text/plain": [
       "                   2016-04-01  2016-05-01  2016-06-01  2016-07-01  2016-08-01\n",
       "Adam_Kinzinger         6579.0     10515.0     12002.0      7217.0     22613.0\n",
       "Adam_Schiff            6541.0      6649.0     12993.0      7501.0      4760.0\n",
       "Adam_Smith           100812.0    109709.0    131453.0     82231.0     88962.0\n",
       "Adrian_Smith          24279.0     19297.0     18793.0     16760.0     15742.0\n",
       "Adriano_Espaillat      1296.0      1061.0      5591.0      5360.0      1729.0"
      ]
     },
     "execution_count": 14,
     "metadata": {},
     "output_type": "execute_result"
    }
   ],
   "source": [
    "house_views = p.article_views('en.wikipedia', house_list, granularity='monthly', start='2016040100', end='2017033100')\n",
    "house_df = pd.DataFrame(house_views)\n",
    "house_df.ix[0:5, 0:5]"
   ]
  },
  {
   "cell_type": "code",
   "execution_count": 15,
   "metadata": {
    "collapsed": false
   },
   "outputs": [
    {
     "data": {
      "text/html": [
       "<div>\n",
       "<table border=\"1\" class=\"dataframe\">\n",
       "  <thead>\n",
       "    <tr style=\"text-align: right;\">\n",
       "      <th></th>\n",
       "      <th>Adam_Kinzinger</th>\n",
       "      <th>Adam_Schiff</th>\n",
       "      <th>Adam_Smith</th>\n",
       "      <th>Adrian_Smith</th>\n",
       "      <th>Adriano_Espaillat</th>\n",
       "    </tr>\n",
       "  </thead>\n",
       "  <tbody>\n",
       "    <tr>\n",
       "      <th>2016-04</th>\n",
       "      <td>6579.0</td>\n",
       "      <td>6541.0</td>\n",
       "      <td>100812.0</td>\n",
       "      <td>24279.0</td>\n",
       "      <td>1296.0</td>\n",
       "    </tr>\n",
       "    <tr>\n",
       "      <th>2016-05</th>\n",
       "      <td>10515.0</td>\n",
       "      <td>6649.0</td>\n",
       "      <td>109709.0</td>\n",
       "      <td>19297.0</td>\n",
       "      <td>1061.0</td>\n",
       "    </tr>\n",
       "    <tr>\n",
       "      <th>2016-06</th>\n",
       "      <td>12002.0</td>\n",
       "      <td>12993.0</td>\n",
       "      <td>131453.0</td>\n",
       "      <td>18793.0</td>\n",
       "      <td>5591.0</td>\n",
       "    </tr>\n",
       "    <tr>\n",
       "      <th>2016-07</th>\n",
       "      <td>7217.0</td>\n",
       "      <td>7501.0</td>\n",
       "      <td>82231.0</td>\n",
       "      <td>16760.0</td>\n",
       "      <td>5360.0</td>\n",
       "    </tr>\n",
       "    <tr>\n",
       "      <th>2016-08</th>\n",
       "      <td>22613.0</td>\n",
       "      <td>4760.0</td>\n",
       "      <td>88962.0</td>\n",
       "      <td>15742.0</td>\n",
       "      <td>1729.0</td>\n",
       "    </tr>\n",
       "  </tbody>\n",
       "</table>\n",
       "</div>"
      ],
      "text/plain": [
       "         Adam_Kinzinger  Adam_Schiff  Adam_Smith  Adrian_Smith  \\\n",
       "2016-04          6579.0       6541.0    100812.0       24279.0   \n",
       "2016-05         10515.0       6649.0    109709.0       19297.0   \n",
       "2016-06         12002.0      12993.0    131453.0       18793.0   \n",
       "2016-07          7217.0       7501.0     82231.0       16760.0   \n",
       "2016-08         22613.0       4760.0     88962.0       15742.0   \n",
       "\n",
       "         Adriano_Espaillat  \n",
       "2016-04             1296.0  \n",
       "2016-05             1061.0  \n",
       "2016-06             5591.0  \n",
       "2016-07             5360.0  \n",
       "2016-08             1729.0  "
      ]
     },
     "execution_count": 15,
     "metadata": {},
     "output_type": "execute_result"
    }
   ],
   "source": [
    "house_df = house_df.transpose()\n",
    "house_df = house_df.set_index(house_df.index.strftime(\"%Y-%m\")).sort_index()\n",
    "house_df.ix[0:5, 0:5]"
   ]
  },
  {
   "cell_type": "code",
   "execution_count": 16,
   "metadata": {
    "collapsed": false
   },
   "outputs": [
    {
     "data": {
      "text/plain": [
       "Adam_Kinzinger        162674.0\n",
       "Adam_Schiff           406908.0\n",
       "Adam_Smith           1335685.0\n",
       "Adrian_Smith          194132.0\n",
       "Adriano_Espaillat      67980.0\n",
       "dtype: float64"
      ]
     },
     "execution_count": 16,
     "metadata": {},
     "output_type": "execute_result"
    }
   ],
   "source": [
    "house_sum = house_df.sum()\n",
    "house_sum[0:5]"
   ]
  },
  {
   "cell_type": "code",
   "execution_count": 17,
   "metadata": {
    "collapsed": false
   },
   "outputs": [
    {
     "data": {
      "text/plain": [
       "2016-04    1865273.0\n",
       "2016-05    2043747.0\n",
       "2016-06    2089077.0\n",
       "2016-07    3064785.0\n",
       "2016-08    1738106.0\n",
       "2016-09    1769800.0\n",
       "2016-10    2627122.0\n",
       "2016-11    4824739.0\n",
       "2016-12    2377182.0\n",
       "2017-01    3968156.0\n",
       "2017-02    3770935.0\n",
       "2017-03    5599340.0\n",
       "dtype: float64"
      ]
     },
     "execution_count": 17,
     "metadata": {},
     "output_type": "execute_result"
    }
   ],
   "source": [
    "house_df_sum = house_df.transpose().sum()\n",
    "house_df_sum"
   ]
  },
  {
   "cell_type": "code",
   "execution_count": 18,
   "metadata": {
    "collapsed": false
   },
   "outputs": [
    {
     "data": {
      "text/plain": [
       "35738262.0"
      ]
     },
     "execution_count": 18,
     "metadata": {},
     "output_type": "execute_result"
    }
   ],
   "source": [
    "house_df_sum.sum()"
   ]
  },
  {
   "cell_type": "code",
   "execution_count": 19,
   "metadata": {
    "collapsed": false
   },
   "outputs": [
    {
     "data": {
      "text/plain": [
       "<matplotlib.axes._subplots.AxesSubplot at 0x7f5f1470c710>"
      ]
     },
     "execution_count": 19,
     "metadata": {},
     "output_type": "execute_result"
    },
    {
     "name": "stderr",
     "output_type": "stream",
     "text": [
      "WARNING: /srv/paws/lib/python3.4/site-packages/matplotlib/font_manager.py:1297: UserWarning: findfont: Font family ['sans-serif'] not found. Falling back to DejaVu Sans\n",
      "  (prop.get_family(), self.defaultFamily[fontext]))\n",
      "\n"
     ]
    },
    {
     "data": {
      "image/png": "[encoded data removed]",
      "text/plain": [
       "<matplotlib.figure.Figure at 0x7f5ee64e3cf8>"
      ]
     },
     "metadata": {},
     "output_type": "display_data"
    }
   ],
   "source": [
    "house_df_sum.plot(kind='bar')"
   ]
  },
  {
   "cell_type": "markdown",
   "metadata": {},
   "source": [
    "## Combining the datasets\n",
    "\n",
    "We have to transpose each dataset back, then append one to the other:"
   ]
  },
  {
   "cell_type": "code",
   "execution_count": 20,
   "metadata": {
    "collapsed": false
   },
   "outputs": [
    {
     "data": {
      "text/html": [
       "<div>\n",
       "<table border=\"1\" class=\"dataframe\">\n",
       "  <thead>\n",
       "    <tr style=\"text-align: right;\">\n",
       "      <th></th>\n",
       "      <th>2016-04</th>\n",
       "      <th>2016-05</th>\n",
       "      <th>2016-06</th>\n",
       "      <th>2016-07</th>\n",
       "      <th>2016-08</th>\n",
       "      <th>2016-09</th>\n",
       "      <th>2016-10</th>\n",
       "      <th>2016-11</th>\n",
       "      <th>2016-12</th>\n",
       "      <th>2017-01</th>\n",
       "    </tr>\n",
       "  </thead>\n",
       "  <tbody>\n",
       "    <tr>\n",
       "      <th>Adam_Kinzinger</th>\n",
       "      <td>6579.0</td>\n",
       "      <td>10515.0</td>\n",
       "      <td>12002.0</td>\n",
       "      <td>7217.0</td>\n",
       "      <td>22613.0</td>\n",
       "      <td>6846.0</td>\n",
       "      <td>6869.0</td>\n",
       "      <td>19077.0</td>\n",
       "      <td>14200.0</td>\n",
       "      <td>18531.0</td>\n",
       "    </tr>\n",
       "    <tr>\n",
       "      <th>Adam_Schiff</th>\n",
       "      <td>6541.0</td>\n",
       "      <td>6649.0</td>\n",
       "      <td>12993.0</td>\n",
       "      <td>7501.0</td>\n",
       "      <td>4760.0</td>\n",
       "      <td>5068.0</td>\n",
       "      <td>8318.0</td>\n",
       "      <td>13906.0</td>\n",
       "      <td>17191.0</td>\n",
       "      <td>20320.0</td>\n",
       "    </tr>\n",
       "    <tr>\n",
       "      <th>Adam_Smith</th>\n",
       "      <td>100812.0</td>\n",
       "      <td>109709.0</td>\n",
       "      <td>131453.0</td>\n",
       "      <td>82231.0</td>\n",
       "      <td>88962.0</td>\n",
       "      <td>139383.0</td>\n",
       "      <td>120506.0</td>\n",
       "      <td>119941.0</td>\n",
       "      <td>102399.0</td>\n",
       "      <td>115865.0</td>\n",
       "    </tr>\n",
       "    <tr>\n",
       "      <th>Adrian_Smith</th>\n",
       "      <td>24279.0</td>\n",
       "      <td>19297.0</td>\n",
       "      <td>18793.0</td>\n",
       "      <td>16760.0</td>\n",
       "      <td>15742.0</td>\n",
       "      <td>13408.0</td>\n",
       "      <td>11851.0</td>\n",
       "      <td>12649.0</td>\n",
       "      <td>12144.0</td>\n",
       "      <td>17735.0</td>\n",
       "    </tr>\n",
       "    <tr>\n",
       "      <th>Adriano_Espaillat</th>\n",
       "      <td>1296.0</td>\n",
       "      <td>1061.0</td>\n",
       "      <td>5591.0</td>\n",
       "      <td>5360.0</td>\n",
       "      <td>1729.0</td>\n",
       "      <td>2754.0</td>\n",
       "      <td>2017.0</td>\n",
       "      <td>11937.0</td>\n",
       "      <td>4421.0</td>\n",
       "      <td>15559.0</td>\n",
       "    </tr>\n",
       "    <tr>\n",
       "      <th>Al_Green</th>\n",
       "      <td>58431.0</td>\n",
       "      <td>35847.0</td>\n",
       "      <td>34691.0</td>\n",
       "      <td>35115.0</td>\n",
       "      <td>34945.0</td>\n",
       "      <td>33970.0</td>\n",
       "      <td>37392.0</td>\n",
       "      <td>39488.0</td>\n",
       "      <td>44610.0</td>\n",
       "      <td>45585.0</td>\n",
       "    </tr>\n",
       "    <tr>\n",
       "      <th>Al_Lawson</th>\n",
       "      <td>30.0</td>\n",
       "      <td>36.0</td>\n",
       "      <td>34.0</td>\n",
       "      <td>68.0</td>\n",
       "      <td>479.0</td>\n",
       "      <td>1070.0</td>\n",
       "      <td>1185.0</td>\n",
       "      <td>3856.0</td>\n",
       "      <td>2326.0</td>\n",
       "      <td>4971.0</td>\n",
       "    </tr>\n",
       "    <tr>\n",
       "      <th>Alan_Lowenthal</th>\n",
       "      <td>2164.0</td>\n",
       "      <td>2151.0</td>\n",
       "      <td>2575.0</td>\n",
       "      <td>1760.0</td>\n",
       "      <td>1597.0</td>\n",
       "      <td>1455.0</td>\n",
       "      <td>2278.0</td>\n",
       "      <td>3401.0</td>\n",
       "      <td>1985.0</td>\n",
       "      <td>3135.0</td>\n",
       "    </tr>\n",
       "    <tr>\n",
       "      <th>Albio_Sires</th>\n",
       "      <td>2348.0</td>\n",
       "      <td>2126.0</td>\n",
       "      <td>2467.0</td>\n",
       "      <td>1960.0</td>\n",
       "      <td>1679.0</td>\n",
       "      <td>3582.0</td>\n",
       "      <td>2483.0</td>\n",
       "      <td>4875.0</td>\n",
       "      <td>1993.0</td>\n",
       "      <td>3175.0</td>\n",
       "    </tr>\n",
       "    <tr>\n",
       "      <th>Alcee_Hastings</th>\n",
       "      <td>4795.0</td>\n",
       "      <td>5958.0</td>\n",
       "      <td>5533.0</td>\n",
       "      <td>9017.0</td>\n",
       "      <td>4581.0</td>\n",
       "      <td>4075.0</td>\n",
       "      <td>4711.0</td>\n",
       "      <td>6982.0</td>\n",
       "      <td>3866.0</td>\n",
       "      <td>8475.0</td>\n",
       "    </tr>\n",
       "  </tbody>\n",
       "</table>\n",
       "</div>"
      ],
      "text/plain": [
       "                    2016-04   2016-05   2016-06  2016-07  2016-08   2016-09  \\\n",
       "Adam_Kinzinger       6579.0   10515.0   12002.0   7217.0  22613.0    6846.0   \n",
       "Adam_Schiff          6541.0    6649.0   12993.0   7501.0   4760.0    5068.0   \n",
       "Adam_Smith         100812.0  109709.0  131453.0  82231.0  88962.0  139383.0   \n",
       "Adrian_Smith        24279.0   19297.0   18793.0  16760.0  15742.0   13408.0   \n",
       "Adriano_Espaillat    1296.0    1061.0    5591.0   5360.0   1729.0    2754.0   \n",
       "Al_Green            58431.0   35847.0   34691.0  35115.0  34945.0   33970.0   \n",
       "Al_Lawson              30.0      36.0      34.0     68.0    479.0    1070.0   \n",
       "Alan_Lowenthal       2164.0    2151.0    2575.0   1760.0   1597.0    1455.0   \n",
       "Albio_Sires          2348.0    2126.0    2467.0   1960.0   1679.0    3582.0   \n",
       "Alcee_Hastings       4795.0    5958.0    5533.0   9017.0   4581.0    4075.0   \n",
       "\n",
       "                    2016-10   2016-11   2016-12   2017-01  \n",
       "Adam_Kinzinger       6869.0   19077.0   14200.0   18531.0  \n",
       "Adam_Schiff          8318.0   13906.0   17191.0   20320.0  \n",
       "Adam_Smith         120506.0  119941.0  102399.0  115865.0  \n",
       "Adrian_Smith        11851.0   12649.0   12144.0   17735.0  \n",
       "Adriano_Espaillat    2017.0   11937.0    4421.0   15559.0  \n",
       "Al_Green            37392.0   39488.0   44610.0   45585.0  \n",
       "Al_Lawson            1185.0    3856.0    2326.0    4971.0  \n",
       "Alan_Lowenthal       2278.0    3401.0    1985.0    3135.0  \n",
       "Albio_Sires          2483.0    4875.0    1993.0    3175.0  \n",
       "Alcee_Hastings       4711.0    6982.0    3866.0    8475.0  "
      ]
     },
     "execution_count": 20,
     "metadata": {},
     "output_type": "execute_result"
    }
   ],
   "source": [
    "congress_df = house_df.transpose().append(sen_df.transpose())\n",
    "congress_df.ix[0:10,0:10]"
   ]
  },
  {
   "cell_type": "code",
   "execution_count": null,
   "metadata": {
    "collapsed": true
   },
   "outputs": [],
   "source": []
  },
  {
   "cell_type": "code",
   "execution_count": 21,
   "metadata": {
    "collapsed": false
   },
   "outputs": [
    {
     "data": {
      "text/plain": [
       "2016-04     5763434.0\n",
       "2016-05     5505689.0\n",
       "2016-06     5363940.0\n",
       "2016-07     9684397.0\n",
       "2016-08     3717265.0\n",
       "2016-09     3742664.0\n",
       "2016-10     6227574.0\n",
       "2016-11    11111673.0\n",
       "2016-12     4680943.0\n",
       "2017-01     9668053.0\n",
       "2017-02     8604216.0\n",
       "2017-03     9427220.0\n",
       "dtype: float64"
      ]
     },
     "execution_count": 21,
     "metadata": {},
     "output_type": "execute_result"
    }
   ],
   "source": [
    "congress_monthly_sum = congress_df.sum()\n",
    "congress_monthly_sum"
   ]
  },
  {
   "cell_type": "markdown",
   "metadata": {},
   "source": [
    "Then to find the total pageviews, run sum on the sum."
   ]
  },
  {
   "cell_type": "code",
   "execution_count": 22,
   "metadata": {
    "collapsed": false
   },
   "outputs": [
    {
     "data": {
      "text/plain": [
       "83497068.0"
      ]
     },
     "execution_count": 22,
     "metadata": {},
     "output_type": "execute_result"
    }
   ],
   "source": [
    "congress_monthly_sum.sum()"
   ]
  },
  {
   "cell_type": "markdown",
   "metadata": {
    "collapsed": true
   },
   "source": [
    "## Old code for trying to programatically get lists of members of Congress"
   ]
  },
  {
   "cell_type": "code",
   "execution_count": 23,
   "metadata": {
    "collapsed": false
   },
   "outputs": [
    {
     "ename": "AssertionError",
     "evalue": "",
     "output_type": "error",
     "traceback": [
      "\u001b[0;31m---------------------------------------------------------------------------\u001b[0m",
      "\u001b[0;31mAssertionError\u001b[0m                            Traceback (most recent call last)",
      "\u001b[0;32m<ipython-input-23-ebd3efcfd254>\u001b[0m in \u001b[0;36m<module>\u001b[0;34m()\u001b[0m\n\u001b[1;32m      1\u001b[0m \u001b[0;31m# used to stop execution\u001b[0m\u001b[0;34m\u001b[0m\u001b[0;34m\u001b[0m\u001b[0m\n\u001b[1;32m      2\u001b[0m \u001b[0;34m\u001b[0m\u001b[0m\n\u001b[0;32m----> 3\u001b[0;31m \u001b[0;32massert\u001b[0m \u001b[0;32mFalse\u001b[0m \u001b[0;32mis\u001b[0m \u001b[0;32mTrue\u001b[0m\u001b[0;34m\u001b[0m\u001b[0m\n\u001b[0m",
      "\u001b[0;31mAssertionError\u001b[0m: "
     ]
    }
   ],
   "source": [
    "# used to stop execution \n",
    "\n",
    "assert False is True"
   ]
  },
  {
   "cell_type": "code",
   "execution_count": null,
   "metadata": {
    "collapsed": false
   },
   "outputs": [],
   "source": [
    "site = pywikibot.Site(code=\"en\")\n",
    "site.login()"
   ]
  },
  {
   "cell_type": "code",
   "execution_count": null,
   "metadata": {
    "collapsed": true
   },
   "outputs": [],
   "source": []
  },
  {
   "cell_type": "code",
   "execution_count": null,
   "metadata": {
    "collapsed": false
   },
   "outputs": [],
   "source": [
    "rep_page = pywikibot.Page(site, title=\"List_of_United_States_Representatives_in_the_115th_Congress_by_seniority\")"
   ]
  },
  {
   "cell_type": "code",
   "execution_count": null,
   "metadata": {
    "collapsed": false
   },
   "outputs": [],
   "source": [
    "rep_list = []\n",
    "for page in rep_page.linkedPages():\n",
    "    has_from_cat = False\n",
    "    has_births_cat = False\n",
    "    #print(page.title())\n",
    "    for category in page.categories():\n",
    "        #print(\"\\t\", category.title())\n",
    "        if category.title().find(\"Category:Members of the United States House of Representatives from\") >= 0:\n",
    "            has_from_cat = True\n",
    "        if category.title().find(\"births\") >= 0:\n",
    "            has_births_cat = True\n",
    "        if has_births_cat & has_from_cat:\n",
    "            rep_list.append(page.title())\n",
    "            break"
   ]
  },
  {
   "cell_type": "code",
   "execution_count": null,
   "metadata": {
    "collapsed": false
   },
   "outputs": [],
   "source": [
    "senate_list = []\n",
    "for page in rep_page.linkedPages():\n",
    "    has_from_cat = False\n",
    "    has_births_cat = False\n",
    "    #print(page.title())\n",
    "    for category in page.categories():\n",
    "        #print(\"\\t\", category.title())\n",
    "        if category.title().find(\"United States Senators\") >= 0:\n",
    "            has_from_cat = True\n",
    "        #if category.title().find(\"births\") >= 0:\n",
    "            #has_births_cat = True\n",
    "        if has_from_cat:\n",
    "            senate_list.append(page.title())\n",
    "            break\n",
    "            "
   ]
  }
 ],
 "metadata": {
  "kernelspec": {
   "display_name": "Python 3",
   "language": "python",
   "name": "python3"
  },
  "language_info": {
   "codemirror_mode": {
    "name": "ipython",
    "version": 3
   },
   "file_extension": ".py",
   "mimetype": "text/x-python",
   "name": "python",
   "nbconvert_exporter": "python",
   "pygments_lexer": "ipython3",
   "version": "3.4.2"
  }
 },
 "nbformat": 4,
 "nbformat_minor": 1
}
