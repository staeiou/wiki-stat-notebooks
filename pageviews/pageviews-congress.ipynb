{
 "cells": [
  {
   "cell_type": "markdown",
   "metadata": {
    "deletable": true,
    "editable": true
   },
   "source": [
    "# Using python to explore Wikipedia pageview data for all current members of the U.S. Congress\n",
    "\n",
    "By Stuart Geiger (@staeiou, User:Staeiou), licensed under the MIT license\n",
    "\n",
    "Did you know that Wikipedia has been tracking aggregate, anonymized, hourly data about the number of times each page is viewed? There are [data dumps](http://stats.grok.se/), an [API](https://wikitech.wikimedia.org/wiki/Analytics/PageviewAPI), and a [web tool](https://tools.wmflabs.org/pageviews/?project=en.wikipedia.org&platform=all-access&agent=user&range=latest-20&pages=Cat|Dog) for exploring small sets of pages (see [this blog post](https://blog.wikimedia.org/2015/12/14/pageview-data-easily-accessible/) for more on those three). In this notebook, I show how to use python to get data on hundreds of pages at once -- every current member of the U.S. Senate and House of Representatives."
   ]
  },
  {
   "cell_type": "markdown",
   "metadata": {
    "deletable": true,
    "editable": true
   },
   "source": [
    "## Libraries\n",
    "\n",
    "We're using mwviews for getting the pageview data, pandas for the dataframe, and seaborn/matplotlib for plotting. pywikibot is in here because I tried to use it to get titles programmatically, but gave up."
   ]
  },
  {
   "cell_type": "code",
   "execution_count": 1,
   "metadata": {
    "collapsed": false,
    "deletable": true,
    "editable": true
   },
   "outputs": [
    {
     "name": "stdout",
     "output_type": "stream",
     "text": [
      "Requirement already satisfied: mwviews in /home/staeiou/anaconda3/lib/python3.6/site-packages\n",
      "Requirement already satisfied: pywikibot in /home/staeiou/anaconda3/lib/python3.6/site-packages\n",
      "Requirement already satisfied: seaborn in /home/staeiou/anaconda3/lib/python3.6/site-packages\n",
      "Requirement already satisfied: pandas in /home/staeiou/anaconda3/lib/python3.6/site-packages\n",
      "Requirement already satisfied: requests in /home/staeiou/anaconda3/lib/python3.6/site-packages (from mwviews)\n",
      "Requirement already satisfied: futures in /home/staeiou/anaconda3/lib/python3.6/site-packages (from mwviews)\n",
      "Requirement already satisfied: httplib2>=0.9 in /home/staeiou/anaconda3/lib/python3.6/site-packages (from pywikibot)\n",
      "Requirement already satisfied: python-dateutil>=2 in /home/staeiou/anaconda3/lib/python3.6/site-packages (from pandas)\n",
      "Requirement already satisfied: pytz>=2011k in /home/staeiou/anaconda3/lib/python3.6/site-packages (from pandas)\n",
      "Requirement already satisfied: numpy>=1.7.0 in /home/staeiou/anaconda3/lib/python3.6/site-packages (from pandas)\n",
      "Requirement already satisfied: six>=1.5 in /home/staeiou/anaconda3/lib/python3.6/site-packages (from python-dateutil>=2->pandas)\n"
     ]
    }
   ],
   "source": [
    "!pip install mwviews pywikibot seaborn pandas"
   ]
  },
  {
   "cell_type": "code",
   "execution_count": 2,
   "metadata": {
    "collapsed": false,
    "deletable": true,
    "editable": true
   },
   "outputs": [],
   "source": [
    "import mwviews\n",
    "import seaborn as sns\n",
    "import pandas as pd\n",
    "import matplotlib.pyplot as plt\n",
    "%matplotlib inline\n",
    "sns.set(font_scale=1.5)"
   ]
  },
  {
   "cell_type": "markdown",
   "metadata": {
    "collapsed": true,
    "deletable": true,
    "editable": true
   },
   "source": [
    "## Data\n",
    "\n",
    "The .txt files are manually curated lists of titles, based on first copying and pasting the columns displaying the names of the members of Congress at \n",
    "[List_of_United_States_Senators_in_the_115th_Congress_by_seniority](http://enwp.org/List_of_United_States_Senators_in_the_115th_Congress_by_seniority) and [List_of_United_States_Representatives_in_the_115th_Congress_by_seniority](http://enwp.org/List_of_United_States_Representatives_in_the_115th_Congress_by_seniority). Then each of the article links was manually examined to make sure they match the linked page, and updated if, for example, the text said \"Dan Sullivan\" but the article was at \"Dan Sullivan (U.S. Senator)\". Much thanks to [Amy Johnson](http://web.mit.edu/hasts/graduate/johnson.html) who helped curate these lists.\n",
    "\n",
    "I tried programmatically getting lists of all current members of Congress, my failed attempts can be found at the end.\n"
   ]
  },
  {
   "cell_type": "markdown",
   "metadata": {
    "deletable": true,
    "editable": true
   },
   "source": [
    "The files have one title per line, so we read it in and split it into a list with ```.split(\"\\n\")```"
   ]
  },
  {
   "cell_type": "code",
   "execution_count": 3,
   "metadata": {
    "collapsed": false,
    "deletable": true,
    "editable": true
   },
   "outputs": [],
   "source": [
    "with open(\"senators.txt\") as f:\n",
    "    sen_txt = f.read()\n",
    "\n",
    "sen_list = sen_txt.split(\"\\n\")"
   ]
  },
  {
   "cell_type": "code",
   "execution_count": 4,
   "metadata": {
    "collapsed": false,
    "deletable": true,
    "editable": true
   },
   "outputs": [
    {
     "data": {
      "text/plain": [
       "['Richard Shelby',\n",
       " 'Luther Strange',\n",
       " 'Lisa Murkowski',\n",
       " 'Dan Sullivan (U.S. Senator)',\n",
       " 'John McCain']"
      ]
     },
     "execution_count": 4,
     "metadata": {},
     "output_type": "execute_result"
    }
   ],
   "source": [
    "sen_list[0:5]"
   ]
  },
  {
   "cell_type": "markdown",
   "metadata": {
    "deletable": true,
    "editable": true
   },
   "source": [
    "Checking the length of the list, we see it has 100, which is good! "
   ]
  },
  {
   "cell_type": "code",
   "execution_count": 5,
   "metadata": {
    "collapsed": false,
    "deletable": true,
    "editable": true
   },
   "outputs": [
    {
     "data": {
      "text/plain": [
       "100"
      ]
     },
     "execution_count": 5,
     "metadata": {},
     "output_type": "execute_result"
    }
   ],
   "source": [
    "len(sen_list)"
   ]
  },
  {
   "cell_type": "markdown",
   "metadata": {
    "deletable": true,
    "editable": true
   },
   "source": [
    "We do the same with the house list, and we get 430 because there are currently some vacancies."
   ]
  },
  {
   "cell_type": "code",
   "execution_count": 6,
   "metadata": {
    "collapsed": false,
    "deletable": true,
    "editable": true
   },
   "outputs": [],
   "source": [
    "with open(\"house_reps.txt\") as f:\n",
    "    house_txt = f.read()\n",
    "    \n",
    "house_list = house_txt.split(\"\\n\")"
   ]
  },
  {
   "cell_type": "code",
   "execution_count": 7,
   "metadata": {
    "collapsed": false,
    "deletable": true,
    "editable": true
   },
   "outputs": [
    {
     "data": {
      "text/plain": [
       "['Bradley Byrne', 'Martha Roby', 'Mike Rogers', 'Robert Aderholt', 'Mo Brooks']"
      ]
     },
     "execution_count": 7,
     "metadata": {},
     "output_type": "execute_result"
    }
   ],
   "source": [
    "house_list[0:5]"
   ]
  },
  {
   "cell_type": "code",
   "execution_count": 8,
   "metadata": {
    "collapsed": false,
    "deletable": true,
    "editable": true
   },
   "outputs": [
    {
     "data": {
      "text/plain": [
       "431"
      ]
     },
     "execution_count": 8,
     "metadata": {},
     "output_type": "execute_result"
    }
   ],
   "source": [
    "len(house_list)"
   ]
  },
  {
   "cell_type": "code",
   "execution_count": null,
   "metadata": {
    "collapsed": false,
    "deletable": true,
    "editable": true
   },
   "outputs": [],
   "source": []
  },
  {
   "cell_type": "markdown",
   "metadata": {
    "deletable": true,
    "editable": true
   },
   "source": [
    "## Querying the pageviews API\n",
    "\n",
    "mwviews makes it much easier to query the pageviews API, so we don't have to directly call the API. We can also pass in a (very long!) list of pages to get data. We get back a nice JSON formatted response, which pandas can convert to a dataframe without any help.\n",
    "\n",
    "The main way to interact via mwviews is the PageviewsClient object, which we will create as `p` for short."
   ]
  },
  {
   "cell_type": "code",
   "execution_count": 9,
   "metadata": {
    "collapsed": true,
    "deletable": true,
    "editable": true
   },
   "outputs": [],
   "source": [
    "from mwviews.api import PageviewsClient\n",
    "\n",
    "p = PageviewsClient()"
   ]
  },
  {
   "cell_type": "markdown",
   "metadata": {
    "deletable": true,
    "editable": true
   },
   "source": [
    "When we query the API for the view data, we can set many variables in ```p.article_views()```. We pass in sen_list as our list of articles. Granularity can be monthly or daily, and start and end dates are formatted as YYYYMMDDHH. You have to include precise start and end dates by the hour, and it will not give super helpful error messages if you do things lie set your end date before your start date or things like that. And also know that the pageview data only goes back a few years."
   ]
  },
  {
   "cell_type": "code",
   "execution_count": 10,
   "metadata": {
    "collapsed": false,
    "deletable": true,
    "editable": true
   },
   "outputs": [],
   "source": [
    "sen_views = p.article_views(project='en.wikipedia', \n",
    "                            articles=sen_list, \n",
    "                            granularity='monthly', \n",
    "                            start='2016040100', \n",
    "                            end='2017033123')\n",
    "\n",
    "sen_df = pd.DataFrame(sen_views)"
   ]
  },
  {
   "cell_type": "markdown",
   "metadata": {
    "deletable": true,
    "editable": true
   },
   "source": [
    "If we peek at the first five rows and columns in the dataframe, we see it is formatted with one row per page, and one column per month:"
   ]
  },
  {
   "cell_type": "code",
   "execution_count": 11,
   "metadata": {
    "collapsed": false,
    "deletable": true,
    "editable": true
   },
   "outputs": [
    {
     "data": {
      "text/html": [
       "<div>\n",
       "<table border=\"1\" class=\"dataframe\">\n",
       "  <thead>\n",
       "    <tr style=\"text-align: right;\">\n",
       "      <th></th>\n",
       "      <th>2016-04-01 00:00:00</th>\n",
       "      <th>2016-05-01 00:00:00</th>\n",
       "      <th>2016-06-01 00:00:00</th>\n",
       "      <th>2016-07-01 00:00:00</th>\n",
       "      <th>2016-08-01 00:00:00</th>\n",
       "    </tr>\n",
       "  </thead>\n",
       "  <tbody>\n",
       "    <tr>\n",
       "      <th>Al_Franken</th>\n",
       "      <td>43087.0</td>\n",
       "      <td>66366.0</td>\n",
       "      <td>53539.0</td>\n",
       "      <td>143641.0</td>\n",
       "      <td>37679.0</td>\n",
       "    </tr>\n",
       "    <tr>\n",
       "      <th>Amy_Klobuchar</th>\n",
       "      <td>19740.0</td>\n",
       "      <td>16663.0</td>\n",
       "      <td>19394.0</td>\n",
       "      <td>36931.0</td>\n",
       "      <td>10618.0</td>\n",
       "    </tr>\n",
       "    <tr>\n",
       "      <th>Angus_King</th>\n",
       "      <td>13951.0</td>\n",
       "      <td>13341.0</td>\n",
       "      <td>16458.0</td>\n",
       "      <td>16043.0</td>\n",
       "      <td>15773.0</td>\n",
       "    </tr>\n",
       "    <tr>\n",
       "      <th>Ben_Cardin</th>\n",
       "      <td>7733.0</td>\n",
       "      <td>5532.0</td>\n",
       "      <td>7198.0</td>\n",
       "      <td>6656.0</td>\n",
       "      <td>6384.0</td>\n",
       "    </tr>\n",
       "    <tr>\n",
       "      <th>Ben_Sasse</th>\n",
       "      <td>9943.0</td>\n",
       "      <td>78686.0</td>\n",
       "      <td>22201.0</td>\n",
       "      <td>21502.0</td>\n",
       "      <td>11996.0</td>\n",
       "    </tr>\n",
       "  </tbody>\n",
       "</table>\n",
       "</div>"
      ],
      "text/plain": [
       "               2016-04-01  2016-05-01  2016-06-01  2016-07-01  2016-08-01\n",
       "Al_Franken        43087.0     66366.0     53539.0    143641.0     37679.0\n",
       "Amy_Klobuchar     19740.0     16663.0     19394.0     36931.0     10618.0\n",
       "Angus_King        13951.0     13341.0     16458.0     16043.0     15773.0\n",
       "Ben_Cardin         7733.0      5532.0      7198.0      6656.0      6384.0\n",
       "Ben_Sasse          9943.0     78686.0     22201.0     21502.0     11996.0"
      ]
     },
     "execution_count": 11,
     "metadata": {},
     "output_type": "execute_result"
    }
   ],
   "source": [
    "sen_df.ix[0:5, 0:5]"
   ]
  },
  {
   "cell_type": "markdown",
   "metadata": {
    "deletable": true,
    "editable": true
   },
   "source": [
    "We transpose this (switching rows and columns), then set the index of each row to a more readable string, Year-Month:"
   ]
  },
  {
   "cell_type": "code",
   "execution_count": 12,
   "metadata": {
    "collapsed": false,
    "deletable": true,
    "editable": true
   },
   "outputs": [
    {
     "data": {
      "text/html": [
       "<div>\n",
       "<table border=\"1\" class=\"dataframe\">\n",
       "  <thead>\n",
       "    <tr style=\"text-align: right;\">\n",
       "      <th></th>\n",
       "      <th>Al_Franken</th>\n",
       "      <th>Amy_Klobuchar</th>\n",
       "      <th>Angus_King</th>\n",
       "      <th>Ben_Cardin</th>\n",
       "      <th>Ben_Sasse</th>\n",
       "    </tr>\n",
       "  </thead>\n",
       "  <tbody>\n",
       "    <tr>\n",
       "      <th>2016-04</th>\n",
       "      <td>43087.0</td>\n",
       "      <td>19740.0</td>\n",
       "      <td>13951.0</td>\n",
       "      <td>7733.0</td>\n",
       "      <td>9943.0</td>\n",
       "    </tr>\n",
       "    <tr>\n",
       "      <th>2016-05</th>\n",
       "      <td>66366.0</td>\n",
       "      <td>16663.0</td>\n",
       "      <td>13341.0</td>\n",
       "      <td>5532.0</td>\n",
       "      <td>78686.0</td>\n",
       "    </tr>\n",
       "    <tr>\n",
       "      <th>2016-06</th>\n",
       "      <td>53539.0</td>\n",
       "      <td>19394.0</td>\n",
       "      <td>16458.0</td>\n",
       "      <td>7198.0</td>\n",
       "      <td>22201.0</td>\n",
       "    </tr>\n",
       "    <tr>\n",
       "      <th>2016-07</th>\n",
       "      <td>143641.0</td>\n",
       "      <td>36931.0</td>\n",
       "      <td>16043.0</td>\n",
       "      <td>6656.0</td>\n",
       "      <td>21502.0</td>\n",
       "    </tr>\n",
       "    <tr>\n",
       "      <th>2016-08</th>\n",
       "      <td>37679.0</td>\n",
       "      <td>10618.0</td>\n",
       "      <td>15773.0</td>\n",
       "      <td>6384.0</td>\n",
       "      <td>11996.0</td>\n",
       "    </tr>\n",
       "  </tbody>\n",
       "</table>\n",
       "</div>"
      ],
      "text/plain": [
       "         Al_Franken  Amy_Klobuchar  Angus_King  Ben_Cardin  Ben_Sasse\n",
       "2016-04     43087.0        19740.0     13951.0      7733.0     9943.0\n",
       "2016-05     66366.0        16663.0     13341.0      5532.0    78686.0\n",
       "2016-06     53539.0        19394.0     16458.0      7198.0    22201.0\n",
       "2016-07    143641.0        36931.0     16043.0      6656.0    21502.0\n",
       "2016-08     37679.0        10618.0     15773.0      6384.0    11996.0"
      ]
     },
     "execution_count": 12,
     "metadata": {},
     "output_type": "execute_result"
    }
   ],
   "source": [
    "sen_df = sen_df.transpose()\n",
    "sen_df = sen_df.set_index(sen_df.index.strftime(\"%Y-%m\")).sort_index()\n",
    "sen_df.ix[0:5, 0:5]"
   ]
  },
  {
   "cell_type": "markdown",
   "metadata": {
    "deletable": true,
    "editable": true
   },
   "source": [
    "We can get the sum for each page by running .sum(), and we can peek into the first five pages:"
   ]
  },
  {
   "cell_type": "code",
   "execution_count": 13,
   "metadata": {
    "collapsed": false,
    "deletable": true,
    "editable": true
   },
   "outputs": [
    {
     "data": {
      "text/plain": [
       "Al_Franken       1400454.0\n",
       "Amy_Klobuchar     340114.0\n",
       "Angus_King        281545.0\n",
       "Ben_Cardin        135774.0\n",
       "Ben_Sasse         384434.0\n",
       "dtype: float64"
      ]
     },
     "execution_count": 13,
     "metadata": {},
     "output_type": "execute_result"
    }
   ],
   "source": [
    "sen_sum = sen_df.sum()\n",
    "sen_sum[0:5]"
   ]
  },
  {
   "cell_type": "markdown",
   "metadata": {
    "deletable": true,
    "editable": true
   },
   "source": [
    "We can get the sum for each month by transposing back and running .sum() on the dataframe:"
   ]
  },
  {
   "cell_type": "code",
   "execution_count": 14,
   "metadata": {
    "collapsed": false,
    "deletable": true,
    "editable": true
   },
   "outputs": [
    {
     "data": {
      "text/plain": [
       "2016-04    3931109.0\n",
       "2016-05    3493508.0\n",
       "2016-06    3358614.0\n",
       "2016-07    6661905.0\n",
       "2016-08    2012990.0\n",
       "2016-09    2000842.0\n",
       "2016-10    3647561.0\n",
       "2016-11    6361233.0\n",
       "2016-12    2352725.0\n",
       "2017-01    5803284.0\n",
       "2017-02    4912876.0\n",
       "2017-03    3882319.0\n",
       "dtype: float64"
      ]
     },
     "execution_count": 14,
     "metadata": {},
     "output_type": "execute_result"
    }
   ],
   "source": [
    "sen_monthly_sum = sen_df.transpose().sum()\n",
    "sen_monthly_sum"
   ]
  },
  {
   "cell_type": "markdown",
   "metadata": {
    "deletable": true,
    "editable": true
   },
   "source": [
    "And we can get the sum of all the months from 2016-04 to 2016-03 by summing the monthly sum, which gives us 48.4 million pageviews:"
   ]
  },
  {
   "cell_type": "code",
   "execution_count": 15,
   "metadata": {
    "collapsed": false,
    "deletable": true,
    "editable": true
   },
   "outputs": [
    {
     "data": {
      "text/plain": [
       "48418966.0"
      ]
     },
     "execution_count": 15,
     "metadata": {},
     "output_type": "execute_result"
    }
   ],
   "source": [
    "sen_monthly_sum.sum()"
   ]
  },
  {
   "cell_type": "markdown",
   "metadata": {
    "deletable": true,
    "editable": true
   },
   "source": [
    "We can use the built-in plotting functionality in pandas dataframes to show a monthly plot. You can adjust kind to be many types, including bar, line, and area."
   ]
  },
  {
   "cell_type": "code",
   "execution_count": 16,
   "metadata": {
    "collapsed": false,
    "deletable": true,
    "editable": true
   },
   "outputs": [
    {
     "data": {
      "text/plain": [
       "<matplotlib.text.Text at 0x7faf78d4b320>"
      ]
     },
     "execution_count": 16,
     "metadata": {},
     "output_type": "execute_result"
    },
    {
     "data": {
      "image/png": "[encoded data removed]",
      "text/plain": [
       "<matplotlib.figure.Figure at 0x7faf78c83828>"
      ]
     },
     "metadata": {},
     "output_type": "display_data"
    }
   ],
   "source": [
    "fig = plt.figure()\n",
    "fig.suptitle(\"Monthly Wikipedia pageviews for current U.S. Senators\")\n",
    "plt.ticklabel_format(style = 'plain')\n",
    "\n",
    "ax = sen_monthly_sum.plot(kind='barh', figsize=[12,6])\n",
    "ax.set_xlabel(\"Monthly pageviews\")\n",
    "ax.set_ylabel(\"Month\")\n"
   ]
  },
  {
   "cell_type": "markdown",
   "metadata": {
    "collapsed": true,
    "deletable": true,
    "editable": true
   },
   "source": [
    "### The House\n",
    "\n",
    "We do the same thing for the House of Representatives, only with different variables. Recall that ```house_list``` is our list of titles:"
   ]
  },
  {
   "cell_type": "code",
   "execution_count": 17,
   "metadata": {
    "collapsed": false,
    "deletable": true,
    "editable": true
   },
   "outputs": [
    {
     "data": {
      "text/plain": [
       "['Bradley Byrne', 'Martha Roby', 'Mike Rogers', 'Robert Aderholt', 'Mo Brooks']"
      ]
     },
     "execution_count": 17,
     "metadata": {},
     "output_type": "execute_result"
    }
   ],
   "source": [
    "house_list[0:5]"
   ]
  },
  {
   "cell_type": "code",
   "execution_count": 18,
   "metadata": {
    "collapsed": false,
    "deletable": true,
    "editable": true
   },
   "outputs": [
    {
     "data": {
      "text/html": [
       "<div>\n",
       "<table border=\"1\" class=\"dataframe\">\n",
       "  <thead>\n",
       "    <tr style=\"text-align: right;\">\n",
       "      <th></th>\n",
       "      <th>2016-04-01 00:00:00</th>\n",
       "      <th>2016-05-01 00:00:00</th>\n",
       "      <th>2016-06-01 00:00:00</th>\n",
       "      <th>2016-07-01 00:00:00</th>\n",
       "      <th>2016-08-01 00:00:00</th>\n",
       "    </tr>\n",
       "  </thead>\n",
       "  <tbody>\n",
       "    <tr>\n",
       "      <th>Adam_Kinzinger</th>\n",
       "      <td>6579.0</td>\n",
       "      <td>10515.0</td>\n",
       "      <td>12002.0</td>\n",
       "      <td>7217.0</td>\n",
       "      <td>22613.0</td>\n",
       "    </tr>\n",
       "    <tr>\n",
       "      <th>Adam_Schiff</th>\n",
       "      <td>6541.0</td>\n",
       "      <td>6649.0</td>\n",
       "      <td>12993.0</td>\n",
       "      <td>7501.0</td>\n",
       "      <td>4760.0</td>\n",
       "    </tr>\n",
       "    <tr>\n",
       "      <th>Adam_Smith_(politician)</th>\n",
       "      <td>2712.0</td>\n",
       "      <td>2400.0</td>\n",
       "      <td>2770.0</td>\n",
       "      <td>2939.0</td>\n",
       "      <td>2458.0</td>\n",
       "    </tr>\n",
       "    <tr>\n",
       "      <th>Adrian_Smith_(politician)</th>\n",
       "      <td>1368.0</td>\n",
       "      <td>1295.0</td>\n",
       "      <td>1285.0</td>\n",
       "      <td>1151.0</td>\n",
       "      <td>1432.0</td>\n",
       "    </tr>\n",
       "    <tr>\n",
       "      <th>Adriano_Espaillat</th>\n",
       "      <td>1296.0</td>\n",
       "      <td>1061.0</td>\n",
       "      <td>5591.0</td>\n",
       "      <td>5360.0</td>\n",
       "      <td>1729.0</td>\n",
       "    </tr>\n",
       "  </tbody>\n",
       "</table>\n",
       "</div>"
      ],
      "text/plain": [
       "                           2016-04-01  2016-05-01  2016-06-01  2016-07-01  \\\n",
       "Adam_Kinzinger                 6579.0     10515.0     12002.0      7217.0   \n",
       "Adam_Schiff                    6541.0      6649.0     12993.0      7501.0   \n",
       "Adam_Smith_(politician)        2712.0      2400.0      2770.0      2939.0   \n",
       "Adrian_Smith_(politician)      1368.0      1295.0      1285.0      1151.0   \n",
       "Adriano_Espaillat              1296.0      1061.0      5591.0      5360.0   \n",
       "\n",
       "                           2016-08-01  \n",
       "Adam_Kinzinger                22613.0  \n",
       "Adam_Schiff                    4760.0  \n",
       "Adam_Smith_(politician)        2458.0  \n",
       "Adrian_Smith_(politician)      1432.0  \n",
       "Adriano_Espaillat              1729.0  "
      ]
     },
     "execution_count": 18,
     "metadata": {},
     "output_type": "execute_result"
    }
   ],
   "source": [
    "house_views = p.article_views(project='en.wikipedia', \n",
    "                              articles=house_list, \n",
    "                              granularity='monthly', \n",
    "                              start='2016040100', \n",
    "                              end='2017033123')\n",
    "                              \n",
    "house_df = pd.DataFrame(house_views)\n",
    "house_df.ix[0:5, 0:5]"
   ]
  },
  {
   "cell_type": "code",
   "execution_count": 19,
   "metadata": {
    "collapsed": false,
    "deletable": true,
    "editable": true
   },
   "outputs": [
    {
     "data": {
      "text/html": [
       "<div>\n",
       "<table border=\"1\" class=\"dataframe\">\n",
       "  <thead>\n",
       "    <tr style=\"text-align: right;\">\n",
       "      <th></th>\n",
       "      <th>Adam_Kinzinger</th>\n",
       "      <th>Adam_Schiff</th>\n",
       "      <th>Adam_Smith_(politician)</th>\n",
       "      <th>Adrian_Smith_(politician)</th>\n",
       "      <th>Adriano_Espaillat</th>\n",
       "    </tr>\n",
       "  </thead>\n",
       "  <tbody>\n",
       "    <tr>\n",
       "      <th>2016-04</th>\n",
       "      <td>6579.0</td>\n",
       "      <td>6541.0</td>\n",
       "      <td>2712.0</td>\n",
       "      <td>1368.0</td>\n",
       "      <td>1296.0</td>\n",
       "    </tr>\n",
       "    <tr>\n",
       "      <th>2016-05</th>\n",
       "      <td>10515.0</td>\n",
       "      <td>6649.0</td>\n",
       "      <td>2400.0</td>\n",
       "      <td>1295.0</td>\n",
       "      <td>1061.0</td>\n",
       "    </tr>\n",
       "    <tr>\n",
       "      <th>2016-06</th>\n",
       "      <td>12002.0</td>\n",
       "      <td>12993.0</td>\n",
       "      <td>2770.0</td>\n",
       "      <td>1285.0</td>\n",
       "      <td>5591.0</td>\n",
       "    </tr>\n",
       "    <tr>\n",
       "      <th>2016-07</th>\n",
       "      <td>7217.0</td>\n",
       "      <td>7501.0</td>\n",
       "      <td>2939.0</td>\n",
       "      <td>1151.0</td>\n",
       "      <td>5360.0</td>\n",
       "    </tr>\n",
       "    <tr>\n",
       "      <th>2016-08</th>\n",
       "      <td>22613.0</td>\n",
       "      <td>4760.0</td>\n",
       "      <td>2458.0</td>\n",
       "      <td>1432.0</td>\n",
       "      <td>1729.0</td>\n",
       "    </tr>\n",
       "  </tbody>\n",
       "</table>\n",
       "</div>"
      ],
      "text/plain": [
       "         Adam_Kinzinger  Adam_Schiff  Adam_Smith_(politician)  \\\n",
       "2016-04          6579.0       6541.0                   2712.0   \n",
       "2016-05         10515.0       6649.0                   2400.0   \n",
       "2016-06         12002.0      12993.0                   2770.0   \n",
       "2016-07          7217.0       7501.0                   2939.0   \n",
       "2016-08         22613.0       4760.0                   2458.0   \n",
       "\n",
       "         Adrian_Smith_(politician)  Adriano_Espaillat  \n",
       "2016-04                     1368.0             1296.0  \n",
       "2016-05                     1295.0             1061.0  \n",
       "2016-06                     1285.0             5591.0  \n",
       "2016-07                     1151.0             5360.0  \n",
       "2016-08                     1432.0             1729.0  "
      ]
     },
     "execution_count": 19,
     "metadata": {},
     "output_type": "execute_result"
    }
   ],
   "source": [
    "house_df = house_df.transpose()\n",
    "house_df = house_df.set_index(house_df.index.strftime(\"%Y-%m\")).sort_index()\n",
    "house_df.ix[0:5, 0:5]"
   ]
  },
  {
   "cell_type": "code",
   "execution_count": 20,
   "metadata": {
    "collapsed": false,
    "deletable": true,
    "editable": true
   },
   "outputs": [
    {
     "data": {
      "text/plain": [
       "Adam_Kinzinger               162674.0\n",
       "Adam_Schiff                  406908.0\n",
       "Adam_Smith_(politician)       40274.0\n",
       "Adrian_Smith_(politician)     19851.0\n",
       "Adriano_Espaillat             67980.0\n",
       "dtype: float64"
      ]
     },
     "execution_count": 20,
     "metadata": {},
     "output_type": "execute_result"
    }
   ],
   "source": [
    "house_sum = house_df.sum()\n",
    "house_sum[0:5]"
   ]
  },
  {
   "cell_type": "code",
   "execution_count": 21,
   "metadata": {
    "collapsed": false,
    "deletable": true,
    "editable": true
   },
   "outputs": [
    {
     "data": {
      "text/plain": [
       "2016-04    1727960.0\n",
       "2016-05    1940369.0\n",
       "2016-06    1983199.0\n",
       "2016-07    3009143.0\n",
       "2016-08    1644636.0\n",
       "2016-09    1609682.0\n",
       "2016-10    2558133.0\n",
       "2016-11    5095820.0\n",
       "2016-12    2408666.0\n",
       "2017-01    4190713.0\n",
       "2017-02    3905450.0\n",
       "2017-03    5931667.0\n",
       "dtype: float64"
      ]
     },
     "execution_count": 21,
     "metadata": {},
     "output_type": "execute_result"
    }
   ],
   "source": [
    "house_monthly_sum = house_df.transpose().sum()\n",
    "house_monthly_sum"
   ]
  },
  {
   "cell_type": "code",
   "execution_count": 22,
   "metadata": {
    "collapsed": false,
    "deletable": true,
    "editable": true
   },
   "outputs": [
    {
     "data": {
      "text/plain": [
       "36005438.0"
      ]
     },
     "execution_count": 22,
     "metadata": {},
     "output_type": "execute_result"
    }
   ],
   "source": [
    "house_monthly_sum.sum()"
   ]
  },
  {
   "cell_type": "markdown",
   "metadata": {
    "deletable": true,
    "editable": true
   },
   "source": [
    "This gives us 36 million total pageviews for House reps."
   ]
  },
  {
   "cell_type": "code",
   "execution_count": 23,
   "metadata": {
    "collapsed": false,
    "deletable": true,
    "editable": true
   },
   "outputs": [
    {
     "data": {
      "text/plain": [
       "<matplotlib.text.Text at 0x7faf5ff04518>"
      ]
     },
     "execution_count": 23,
     "metadata": {},
     "output_type": "execute_result"
    },
    {
     "data": {
      "image/png": "[encoded data removed]",
      "text/plain": [
       "<matplotlib.figure.Figure at 0x7faf884d22e8>"
      ]
     },
     "metadata": {},
     "output_type": "display_data"
    }
   ],
   "source": [
    "fig = plt.figure()\n",
    "fig.suptitle(\"Monthly Wikipedia pageviews for current U.S. House of Representatives\")\n",
    "plt.ticklabel_format(style = 'plain')\n",
    "\n",
    "ax = house_monthly_sum.plot(kind='barh', figsize=[12,6])\n",
    "ax.set_xlabel(\"Monthly pageviews\")\n",
    "ax.set_ylabel(\"Month\")\n"
   ]
  },
  {
   "cell_type": "markdown",
   "metadata": {
    "deletable": true,
    "editable": true
   },
   "source": [
    "## Combining the datasets\n",
    "\n",
    "We have to transpose each dataset back, then append one to the other:"
   ]
  },
  {
   "cell_type": "code",
   "execution_count": 24,
   "metadata": {
    "collapsed": false,
    "deletable": true,
    "editable": true
   },
   "outputs": [
    {
     "data": {
      "text/html": [
       "<div>\n",
       "<table border=\"1\" class=\"dataframe\">\n",
       "  <thead>\n",
       "    <tr style=\"text-align: right;\">\n",
       "      <th></th>\n",
       "      <th>2016-04</th>\n",
       "      <th>2016-05</th>\n",
       "      <th>2016-06</th>\n",
       "      <th>2016-07</th>\n",
       "      <th>2016-08</th>\n",
       "      <th>2016-09</th>\n",
       "      <th>2016-10</th>\n",
       "      <th>2016-11</th>\n",
       "      <th>2016-12</th>\n",
       "      <th>2017-01</th>\n",
       "    </tr>\n",
       "  </thead>\n",
       "  <tbody>\n",
       "    <tr>\n",
       "      <th>Adam_Kinzinger</th>\n",
       "      <td>6579.0</td>\n",
       "      <td>10515.0</td>\n",
       "      <td>12002.0</td>\n",
       "      <td>7217.0</td>\n",
       "      <td>22613.0</td>\n",
       "      <td>6846.0</td>\n",
       "      <td>6869.0</td>\n",
       "      <td>19077.0</td>\n",
       "      <td>14200.0</td>\n",
       "      <td>18531.0</td>\n",
       "    </tr>\n",
       "    <tr>\n",
       "      <th>Adam_Schiff</th>\n",
       "      <td>6541.0</td>\n",
       "      <td>6649.0</td>\n",
       "      <td>12993.0</td>\n",
       "      <td>7501.0</td>\n",
       "      <td>4760.0</td>\n",
       "      <td>5068.0</td>\n",
       "      <td>8318.0</td>\n",
       "      <td>13906.0</td>\n",
       "      <td>17191.0</td>\n",
       "      <td>20320.0</td>\n",
       "    </tr>\n",
       "    <tr>\n",
       "      <th>Adam_Smith_(politician)</th>\n",
       "      <td>2712.0</td>\n",
       "      <td>2400.0</td>\n",
       "      <td>2770.0</td>\n",
       "      <td>2939.0</td>\n",
       "      <td>2458.0</td>\n",
       "      <td>2802.0</td>\n",
       "      <td>2841.0</td>\n",
       "      <td>4745.0</td>\n",
       "      <td>3301.0</td>\n",
       "      <td>5510.0</td>\n",
       "    </tr>\n",
       "    <tr>\n",
       "      <th>Adrian_Smith_(politician)</th>\n",
       "      <td>1368.0</td>\n",
       "      <td>1295.0</td>\n",
       "      <td>1285.0</td>\n",
       "      <td>1151.0</td>\n",
       "      <td>1432.0</td>\n",
       "      <td>1363.0</td>\n",
       "      <td>2004.0</td>\n",
       "      <td>2292.0</td>\n",
       "      <td>1481.0</td>\n",
       "      <td>1967.0</td>\n",
       "    </tr>\n",
       "    <tr>\n",
       "      <th>Adriano_Espaillat</th>\n",
       "      <td>1296.0</td>\n",
       "      <td>1061.0</td>\n",
       "      <td>5591.0</td>\n",
       "      <td>5360.0</td>\n",
       "      <td>1729.0</td>\n",
       "      <td>2754.0</td>\n",
       "      <td>2017.0</td>\n",
       "      <td>11937.0</td>\n",
       "      <td>4421.0</td>\n",
       "      <td>15559.0</td>\n",
       "    </tr>\n",
       "    <tr>\n",
       "      <th>Al_Green_(politician)</th>\n",
       "      <td>4527.0</td>\n",
       "      <td>3047.0</td>\n",
       "      <td>3243.0</td>\n",
       "      <td>3141.0</td>\n",
       "      <td>2028.0</td>\n",
       "      <td>2878.0</td>\n",
       "      <td>2915.0</td>\n",
       "      <td>3549.0</td>\n",
       "      <td>2382.0</td>\n",
       "      <td>6651.0</td>\n",
       "    </tr>\n",
       "    <tr>\n",
       "      <th>Al_Lawson</th>\n",
       "      <td>30.0</td>\n",
       "      <td>36.0</td>\n",
       "      <td>34.0</td>\n",
       "      <td>68.0</td>\n",
       "      <td>479.0</td>\n",
       "      <td>1070.0</td>\n",
       "      <td>1185.0</td>\n",
       "      <td>3856.0</td>\n",
       "      <td>2326.0</td>\n",
       "      <td>4971.0</td>\n",
       "    </tr>\n",
       "    <tr>\n",
       "      <th>Alan_Lowenthal</th>\n",
       "      <td>2164.0</td>\n",
       "      <td>2151.0</td>\n",
       "      <td>2575.0</td>\n",
       "      <td>1760.0</td>\n",
       "      <td>1597.0</td>\n",
       "      <td>1455.0</td>\n",
       "      <td>2278.0</td>\n",
       "      <td>3401.0</td>\n",
       "      <td>1985.0</td>\n",
       "      <td>3135.0</td>\n",
       "    </tr>\n",
       "    <tr>\n",
       "      <th>Albio_Sires</th>\n",
       "      <td>2348.0</td>\n",
       "      <td>2126.0</td>\n",
       "      <td>2467.0</td>\n",
       "      <td>1960.0</td>\n",
       "      <td>1679.0</td>\n",
       "      <td>3582.0</td>\n",
       "      <td>2483.0</td>\n",
       "      <td>4875.0</td>\n",
       "      <td>1993.0</td>\n",
       "      <td>3175.0</td>\n",
       "    </tr>\n",
       "    <tr>\n",
       "      <th>Alcee_Hastings</th>\n",
       "      <td>4795.0</td>\n",
       "      <td>5958.0</td>\n",
       "      <td>5533.0</td>\n",
       "      <td>9017.0</td>\n",
       "      <td>4581.0</td>\n",
       "      <td>4075.0</td>\n",
       "      <td>4711.0</td>\n",
       "      <td>6982.0</td>\n",
       "      <td>3866.0</td>\n",
       "      <td>8475.0</td>\n",
       "    </tr>\n",
       "  </tbody>\n",
       "</table>\n",
       "</div>"
      ],
      "text/plain": [
       "                           2016-04  2016-05  2016-06  2016-07  2016-08  \\\n",
       "Adam_Kinzinger              6579.0  10515.0  12002.0   7217.0  22613.0   \n",
       "Adam_Schiff                 6541.0   6649.0  12993.0   7501.0   4760.0   \n",
       "Adam_Smith_(politician)     2712.0   2400.0   2770.0   2939.0   2458.0   \n",
       "Adrian_Smith_(politician)   1368.0   1295.0   1285.0   1151.0   1432.0   \n",
       "Adriano_Espaillat           1296.0   1061.0   5591.0   5360.0   1729.0   \n",
       "Al_Green_(politician)       4527.0   3047.0   3243.0   3141.0   2028.0   \n",
       "Al_Lawson                     30.0     36.0     34.0     68.0    479.0   \n",
       "Alan_Lowenthal              2164.0   2151.0   2575.0   1760.0   1597.0   \n",
       "Albio_Sires                 2348.0   2126.0   2467.0   1960.0   1679.0   \n",
       "Alcee_Hastings              4795.0   5958.0   5533.0   9017.0   4581.0   \n",
       "\n",
       "                           2016-09  2016-10  2016-11  2016-12  2017-01  \n",
       "Adam_Kinzinger              6846.0   6869.0  19077.0  14200.0  18531.0  \n",
       "Adam_Schiff                 5068.0   8318.0  13906.0  17191.0  20320.0  \n",
       "Adam_Smith_(politician)     2802.0   2841.0   4745.0   3301.0   5510.0  \n",
       "Adrian_Smith_(politician)   1363.0   2004.0   2292.0   1481.0   1967.0  \n",
       "Adriano_Espaillat           2754.0   2017.0  11937.0   4421.0  15559.0  \n",
       "Al_Green_(politician)       2878.0   2915.0   3549.0   2382.0   6651.0  \n",
       "Al_Lawson                   1070.0   1185.0   3856.0   2326.0   4971.0  \n",
       "Alan_Lowenthal              1455.0   2278.0   3401.0   1985.0   3135.0  \n",
       "Albio_Sires                 3582.0   2483.0   4875.0   1993.0   3175.0  \n",
       "Alcee_Hastings              4075.0   4711.0   6982.0   3866.0   8475.0  "
      ]
     },
     "execution_count": 24,
     "metadata": {},
     "output_type": "execute_result"
    }
   ],
   "source": [
    "congress_df = house_df.transpose().append(sen_df.transpose())\n",
    "congress_df.ix[0:10,0:10]"
   ]
  },
  {
   "cell_type": "code",
   "execution_count": null,
   "metadata": {
    "collapsed": true,
    "deletable": true,
    "editable": true
   },
   "outputs": [],
   "source": []
  },
  {
   "cell_type": "code",
   "execution_count": 25,
   "metadata": {
    "collapsed": false,
    "deletable": true,
    "editable": true
   },
   "outputs": [
    {
     "data": {
      "text/plain": [
       "2016-04     5659069.0\n",
       "2016-05     5433877.0\n",
       "2016-06     5341813.0\n",
       "2016-07     9671048.0\n",
       "2016-08     3657626.0\n",
       "2016-09     3610524.0\n",
       "2016-10     6205694.0\n",
       "2016-11    11457053.0\n",
       "2016-12     4761391.0\n",
       "2017-01     9993997.0\n",
       "2017-02     8818326.0\n",
       "2017-03     9813986.0\n",
       "dtype: float64"
      ]
     },
     "execution_count": 25,
     "metadata": {},
     "output_type": "execute_result"
    }
   ],
   "source": [
    "congress_monthly_sum = congress_df.sum()\n",
    "congress_monthly_sum"
   ]
  },
  {
   "cell_type": "markdown",
   "metadata": {
    "deletable": true,
    "editable": true
   },
   "source": [
    "Then to find the total pageviews, run sum on the sum. This is 84.4 million pageviews from March 2016 to March 2017 for all U.S. Members of Congress:"
   ]
  },
  {
   "cell_type": "code",
   "execution_count": 26,
   "metadata": {
    "collapsed": false,
    "deletable": true,
    "editable": true
   },
   "outputs": [
    {
     "data": {
      "text/plain": [
       "84424404.0"
      ]
     },
     "execution_count": 26,
     "metadata": {},
     "output_type": "execute_result"
    }
   ],
   "source": [
    "congress_monthly_sum.sum()"
   ]
  },
  {
   "cell_type": "code",
   "execution_count": 27,
   "metadata": {
    "collapsed": false,
    "deletable": true,
    "editable": true
   },
   "outputs": [
    {
     "data": {
      "text/plain": [
       "<matplotlib.text.Text at 0x7faf8a2133c8>"
      ]
     },
     "execution_count": 27,
     "metadata": {},
     "output_type": "execute_result"
    },
    {
     "data": {
      "image/png": "[encoded data removed]",
      "text/plain": [
       "<matplotlib.figure.Figure at 0x7faf5f4f87f0>"
      ]
     },
     "metadata": {},
     "output_type": "display_data"
    }
   ],
   "source": [
    "fig = plt.figure()\n",
    "fig.suptitle(\"Monthly Wikipedia pageviews for current U.S. Members of Congress\")\n",
    "plt.ticklabel_format(style = 'plain')\n",
    "\n",
    "ax = congress_monthly_sum.plot(kind='barh', figsize=[12,6])\n",
    "\n",
    "ax.set_xlabel(\"Monthly pageviews\")\n",
    "ax.set_ylabel(\"Month\")\n",
    "\n"
   ]
  },
  {
   "cell_type": "markdown",
   "metadata": {},
   "source": [
    "## Plotting a single page's views over time"
   ]
  },
  {
   "cell_type": "markdown",
   "metadata": {},
   "source": [
    "We can query the dataframe by index for a specific page, then plot it:"
   ]
  },
  {
   "cell_type": "code",
   "execution_count": 31,
   "metadata": {
    "collapsed": false,
    "scrolled": false
   },
   "outputs": [
    {
     "data": {
      "text/plain": [
       "<matplotlib.text.Text at 0x7faf5295f1d0>"
      ]
     },
     "execution_count": 31,
     "metadata": {},
     "output_type": "execute_result"
    },
    {
     "data": {
      "image/png": "[encoded data removed]",
      "text/plain": [
       "<matplotlib.figure.Figure at 0x7faf554e7e80>"
      ]
     },
     "metadata": {},
     "output_type": "display_data"
    }
   ],
   "source": [
    "fig = plt.figure()\n",
    "fig.suptitle(\"Monthly Wikipedia pageviews for Al Lawson\")\n",
    "plt.ticklabel_format(style = 'plain')\n",
    "\n",
    "ax = congress_df.ix['Al_Lawson'].plot(kind='barh')\n",
    "\n",
    "ax.set_xlabel(\"Monthly pageviews\")\n",
    "ax.set_ylabel(\"Month\")"
   ]
  },
  {
   "cell_type": "markdown",
   "metadata": {
    "deletable": true,
    "editable": true
   },
   "source": [
    "## Output data\n",
    "\n",
    "We will export these to a folder called data, in csv and excel formats:"
   ]
  },
  {
   "cell_type": "code",
   "execution_count": 32,
   "metadata": {
    "collapsed": false,
    "deletable": true,
    "editable": true
   },
   "outputs": [],
   "source": [
    "house_df.to_csv(\"data/house_views.csv\")\n",
    "house_df.to_excel(\"data/house_views.xlsx\")\n",
    "\n",
    "sen_df.to_csv(\"data/senate_views.csv\")\n",
    "sen_df.to_excel(\"data/senate_views.xlsx\")"
   ]
  },
  {
   "cell_type": "code",
   "execution_count": null,
   "metadata": {
    "collapsed": false,
    "deletable": true,
    "editable": true
   },
   "outputs": [],
   "source": []
  },
  {
   "cell_type": "markdown",
   "metadata": {
    "collapsed": true,
    "deletable": true,
    "editable": true
   },
   "source": [
    "## Old code for trying to programatically get lists of members of Congress"
   ]
  },
  {
   "cell_type": "code",
   "execution_count": 33,
   "metadata": {
    "collapsed": false,
    "deletable": true,
    "editable": true
   },
   "outputs": [
    {
     "ename": "AssertionError",
     "evalue": "",
     "output_type": "error",
     "traceback": [
      "\u001b[0;31m---------------------------------------------------------------------------\u001b[0m",
      "\u001b[0;31mAssertionError\u001b[0m                            Traceback (most recent call last)",
      "\u001b[0;32m<ipython-input-33-20e02078d1a5>\u001b[0m in \u001b[0;36m<module>\u001b[0;34m()\u001b[0m\n\u001b[1;32m      1\u001b[0m \u001b[0;31m# used to stop \"Restart and run all\" execution\u001b[0m\u001b[0;34m\u001b[0m\u001b[0;34m\u001b[0m\u001b[0m\n\u001b[1;32m      2\u001b[0m \u001b[0;34m\u001b[0m\u001b[0m\n\u001b[0;32m----> 3\u001b[0;31m \u001b[0;32massert\u001b[0m \u001b[0;32mFalse\u001b[0m \u001b[0;32mis\u001b[0m \u001b[0;32mTrue\u001b[0m\u001b[0;34m\u001b[0m\u001b[0m\n\u001b[0m",
      "\u001b[0;31mAssertionError\u001b[0m: "
     ]
    }
   ],
   "source": [
    "# used to stop \"Restart and run all\" execution \n",
    "\n",
    "assert False is True"
   ]
  },
  {
   "cell_type": "code",
   "execution_count": null,
   "metadata": {
    "collapsed": false,
    "deletable": true,
    "editable": true
   },
   "outputs": [],
   "source": [
    "site = pywikibot.Site(code=\"en\")\n",
    "site.login()"
   ]
  },
  {
   "cell_type": "code",
   "execution_count": null,
   "metadata": {
    "collapsed": true,
    "deletable": true,
    "editable": true
   },
   "outputs": [],
   "source": []
  },
  {
   "cell_type": "code",
   "execution_count": null,
   "metadata": {
    "collapsed": false,
    "deletable": true,
    "editable": true
   },
   "outputs": [],
   "source": [
    "rep_page = pywikibot.Page(site, title=\"List_of_United_States_Representatives_in_the_115th_Congress_by_seniority\")"
   ]
  },
  {
   "cell_type": "code",
   "execution_count": null,
   "metadata": {
    "collapsed": false,
    "deletable": true,
    "editable": true
   },
   "outputs": [],
   "source": [
    "rep_list = []\n",
    "for page in rep_page.linkedPages():\n",
    "    has_from_cat = False\n",
    "    has_births_cat = False\n",
    "    #print(page.title())\n",
    "    for category in page.categories():\n",
    "        #print(\"\\t\", category.title())\n",
    "        if category.title().find(\"Category:Members of the United States House of Representatives from\") >= 0:\n",
    "            has_from_cat = True\n",
    "        if category.title().find(\"births\") >= 0:\n",
    "            has_births_cat = True\n",
    "        if has_births_cat & has_from_cat:\n",
    "            rep_list.append(page.title())\n",
    "            break"
   ]
  },
  {
   "cell_type": "code",
   "execution_count": null,
   "metadata": {
    "collapsed": false,
    "deletable": true,
    "editable": true
   },
   "outputs": [],
   "source": [
    "senate_list = []\n",
    "for page in rep_page.linkedPages():\n",
    "    has_from_cat = False\n",
    "    has_births_cat = False\n",
    "    #print(page.title())\n",
    "    for category in page.categories():\n",
    "        #print(\"\\t\", category.title())\n",
    "        if category.title().find(\"United States Senators\") >= 0:\n",
    "            has_from_cat = True\n",
    "        if category.title().find(\"births\") >= 0:\n",
    "            has_births_cat = True\n",
    "        if has_from_cat:\n",
    "            senate_list.append(page.title())\n",
    "            break\n",
    "            "
   ]
  }
 ],
 "metadata": {
  "kernelspec": {
   "display_name": "Python 3",
   "language": "python",
   "name": "python3"
  },
  "language_info": {
   "codemirror_mode": {
    "name": "ipython",
    "version": 3
   },
   "file_extension": ".py",
   "mimetype": "text/x-python",
   "name": "python",
   "nbconvert_exporter": "python",
   "pygments_lexer": "ipython3",
   "version": "3.6.1"
  }
 },
 "nbformat": 4,
 "nbformat_minor": 1
}
