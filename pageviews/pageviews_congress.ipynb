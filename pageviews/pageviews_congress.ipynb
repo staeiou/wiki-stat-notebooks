{
 "cells": [
  {
   "cell_type": "markdown",
   "metadata": {
    "colab_type": "text",
    "id": "0yarw0leg7Jm"
   },
   "source": [
    "# Using python to explore Wikipedia pageview data for the 115th U.S. Congress (2016-2018)\n",
    "\n",
    "By Stuart Geiger (@staeiou, User:Staeiou), licensed under the MIT license\n",
    "\n",
    "Did you know that Wikipedia has been tracking aggregate, anonymized, hourly data about the number of times each page is viewed? There are [data dumps](http://stats.grok.se/), an [API](https://wikitech.wikimedia.org/wiki/Analytics/PageviewAPI), and a [web tool](https://tools.wmflabs.org/pageviews/?project=en.wikipedia.org&platform=all-access&agent=user&range=latest-20&pages=Cat|Dog) for exploring small sets of pages (see [this blog post](https://blog.wikimedia.org/2015/12/14/pageview-data-easily-accessible/) for more on those three). In this notebook, I show how to use python to get data on hundreds of pages at once -- every member of the U.S. Senate and House of Representatives in the 115th Congress, which was in session from 2016-2018."
   ]
  },
  {
   "cell_type": "markdown",
   "metadata": {
    "colab_type": "text",
    "id": "jmXLl-8zg7Jo"
   },
   "source": [
    "## Libraries\n",
    "\n",
    "We're using mwviews for getting the pageview data, pandas for the dataframe, and seaborn/matplotlib for plotting. pywikibot is in here because I tried to use it to get titles programmatically, but gave up.\n"
   ]
  },
  {
   "cell_type": "code",
   "execution_count": 1,
   "metadata": {
    "colab": {},
    "colab_type": "code",
    "id": "z6Jdk4ovg7Jq",
    "outputId": "8b39ae48-7bea-4bf9-8cdf-853bca4b39a0"
   },
   "outputs": [
    {
     "name": "stdout",
     "output_type": "stream",
     "text": [
      "Requirement already satisfied: mwviews in /opt/tljh/user/lib/python3.6/site-packages (0.1.0)\n",
      "Requirement already satisfied: pandas in /opt/tljh/user/lib/python3.6/site-packages (0.23.4)\n",
      "Requirement already satisfied: matplotlib in /opt/tljh/user/lib/python3.6/site-packages (3.0.2)\n",
      "Requirement already satisfied: seaborn in /opt/tljh/user/lib/python3.6/site-packages (0.9.0)\n",
      "Requirement already satisfied: requests in /opt/tljh/user/lib/python3.6/site-packages (from mwviews) (2.21.0)\n",
      "Requirement already satisfied: mwcli in /opt/tljh/user/lib/python3.6/site-packages (from mwviews) (0.0.2)\n",
      "Requirement already satisfied: mwapi in /opt/tljh/user/lib/python3.6/site-packages (from mwviews) (0.5.1)\n",
      "Requirement already satisfied: python-dateutil>=2.5.0 in /opt/tljh/user/lib/python3.6/site-packages (from pandas) (2.7.3)\n",
      "Requirement already satisfied: pytz>=2011k in /opt/tljh/user/lib/python3.6/site-packages (from pandas) (2018.5)\n",
      "Requirement already satisfied: numpy>=1.9.0 in /opt/tljh/user/lib/python3.6/site-packages (from pandas) (1.15.2)\n",
      "Requirement already satisfied: cycler>=0.10 in /opt/tljh/user/lib/python3.6/site-packages (from matplotlib) (0.10.0)\n",
      "Requirement already satisfied: kiwisolver>=1.0.1 in /opt/tljh/user/lib/python3.6/site-packages (from matplotlib) (1.0.1)\n",
      "Requirement already satisfied: pyparsing!=2.0.4,!=2.1.2,!=2.1.6,>=2.0.1 in /opt/tljh/user/lib/python3.6/site-packages (from matplotlib) (2.2.1)\n",
      "Requirement already satisfied: scipy>=0.14.0 in /opt/tljh/user/lib/python3.6/site-packages (from seaborn) (1.1.0)\n",
      "Requirement already satisfied: urllib3<1.25,>=1.21.1 in /opt/tljh/user/lib/python3.6/site-packages (from requests->mwviews) (1.23)\n",
      "Requirement already satisfied: certifi>=2017.4.17 in /opt/tljh/user/lib/python3.6/site-packages (from requests->mwviews) (2018.11.29)\n",
      "Requirement already satisfied: idna<2.9,>=2.5 in /opt/tljh/user/lib/python3.6/site-packages (from requests->mwviews) (2.7)\n",
      "Requirement already satisfied: chardet<3.1.0,>=3.0.2 in /opt/tljh/user/lib/python3.6/site-packages (from requests->mwviews) (3.0.4)\n",
      "Requirement already satisfied: docopt in /opt/tljh/user/lib/python3.6/site-packages (from mwcli->mwviews) (0.6.2)\n",
      "Requirement already satisfied: para in /opt/tljh/user/lib/python3.6/site-packages (from mwcli->mwviews) (0.0.6)\n",
      "Requirement already satisfied: six>=1.5 in /opt/tljh/user/lib/python3.6/site-packages (from python-dateutil>=2.5.0->pandas) (1.11.0)\n",
      "Requirement already satisfied: setuptools in /opt/tljh/user/lib/python3.6/site-packages (from kiwisolver>=1.0.1->matplotlib) (40.4.3)\n"
     ]
    }
   ],
   "source": [
    "!pip install mwviews pandas matplotlib seaborn"
   ]
  },
  {
   "cell_type": "code",
   "execution_count": 2,
   "metadata": {
    "colab": {},
    "colab_type": "code",
    "id": "QvPEfjDOg7Jy"
   },
   "outputs": [],
   "source": [
    "import mwviews\n",
    "import pandas as pd\n",
    "import matplotlib.pyplot as plt\n",
    "import numpy as np\n",
    "import seaborn as sns\n",
    "%matplotlib inline\n",
    "sns.set(font_scale=1.5)"
   ]
  },
  {
   "cell_type": "markdown",
   "metadata": {
    "colab_type": "text",
    "collapsed": true,
    "id": "N1_ljvEKg7J3"
   },
   "source": [
    "## Data\n",
    "\n",
    "The .txt files are manually curated lists of titles, based on first copying and pasting the columns displaying the names of the members of Congress at \n",
    "[List_of_United_States_Senators_in_the_115th_Congress_by_seniority](http://enwp.org/List_of_United_States_Senators_in_the_115th_Congress_by_seniority) and [List_of_United_States_Representatives_in_the_115th_Congress_by_seniority](http://enwp.org/List_of_United_States_Representatives_in_the_115th_Congress_by_seniority). Then each of the article links was manually examined to make sure they match the linked page, and updated if, for example, the text said \"Dan Sullivan\" but the article was at \"Dan Sullivan (U.S. Senator)\". Much thanks to [Amy Johnson](http://web.mit.edu/hasts/graduate/johnson.html) who helped curate these lists.\n",
    "\n",
    "I tried programmatically getting lists of all current members of Congress, but failed.\n"
   ]
  },
  {
   "cell_type": "markdown",
   "metadata": {
    "colab_type": "text",
    "id": "Jmqdhdl7g7J4"
   },
   "source": [
    "The files have one title per line, so we read it in and split it into a list with ```.split(\"\\n\")```"
   ]
  },
  {
   "cell_type": "code",
   "execution_count": 3,
   "metadata": {
    "colab": {},
    "colab_type": "code",
    "id": "QnI7uNLOg7J5"
   },
   "outputs": [],
   "source": [
    "with open(\"senators.txt\") as f:\n",
    "    senate_txt = f.read()\n",
    "\n",
    "senate_list = senate_txt.split(\"\\n\")"
   ]
  },
  {
   "cell_type": "code",
   "execution_count": 4,
   "metadata": {
    "colab": {},
    "colab_type": "code",
    "id": "xRll-DXng7J-",
    "outputId": "a27aa2c0-a1d4-4f49-ade8-99e1f42d15cf"
   },
   "outputs": [
    {
     "data": {
      "text/plain": [
       "['Richard Shelby',\n",
       " 'Luther Strange',\n",
       " 'Lisa Murkowski',\n",
       " 'Dan Sullivan (U.S. Senator)',\n",
       " 'John McCain']"
      ]
     },
     "execution_count": 4,
     "metadata": {},
     "output_type": "execute_result"
    }
   ],
   "source": [
    "senate_list[0:5]"
   ]
  },
  {
   "cell_type": "markdown",
   "metadata": {
    "colab_type": "text",
    "id": "UfsoCXhHg7KF"
   },
   "source": [
    "Checking the length of the list, we see it has 100, which is good! "
   ]
  },
  {
   "cell_type": "code",
   "execution_count": 5,
   "metadata": {
    "colab": {},
    "colab_type": "code",
    "id": "ghZ7tuPtg7KG",
    "outputId": "ab2de58a-7ce1-46c7-8d43-3027ebe7141d"
   },
   "outputs": [
    {
     "data": {
      "text/plain": [
       "100"
      ]
     },
     "execution_count": 5,
     "metadata": {},
     "output_type": "execute_result"
    }
   ],
   "source": [
    "len(senate_list)"
   ]
  },
  {
   "cell_type": "markdown",
   "metadata": {
    "colab_type": "text",
    "id": "kP9PrhJ2g7KM"
   },
   "source": [
    "We do the same with the house list, and we get 431 because there are currently some vacancies."
   ]
  },
  {
   "cell_type": "code",
   "execution_count": 6,
   "metadata": {
    "colab": {},
    "colab_type": "code",
    "id": "NvrzUSUdg7KO"
   },
   "outputs": [],
   "source": [
    "with open(\"house_reps.txt\") as f:\n",
    "    house_txt = f.read()\n",
    "    \n",
    "house_list = house_txt.split(\"\\n\")"
   ]
  },
  {
   "cell_type": "code",
   "execution_count": 7,
   "metadata": {
    "colab": {},
    "colab_type": "code",
    "id": "bLciIZWzg7KS",
    "outputId": "6633e1ef-b59f-449a-c786-009b821a14cb"
   },
   "outputs": [
    {
     "data": {
      "text/plain": [
       "['Bradley Byrne', 'Martha Roby', 'Mike Rogers', 'Robert Aderholt', 'Mo Brooks']"
      ]
     },
     "execution_count": 7,
     "metadata": {},
     "output_type": "execute_result"
    }
   ],
   "source": [
    "house_list[0:5]"
   ]
  },
  {
   "cell_type": "code",
   "execution_count": 8,
   "metadata": {
    "colab": {},
    "colab_type": "code",
    "id": "YXvGBOGlg7KZ",
    "outputId": "c36fe1cc-8806-4b13-d8e4-7c85c5ed5eeb"
   },
   "outputs": [
    {
     "data": {
      "text/plain": [
       "431"
      ]
     },
     "execution_count": 8,
     "metadata": {},
     "output_type": "execute_result"
    }
   ],
   "source": [
    "len(house_list)"
   ]
  },
  {
   "cell_type": "markdown",
   "metadata": {
    "colab_type": "text",
    "id": "3Mcx-Tj3g7Kf"
   },
   "source": [
    "## Querying the pageviews API\n",
    "\n",
    "mwviews makes it much easier to query the pageviews API, so we don't have to directly call the API. We can also pass in a (very long!) list of pages to get data. We get back a nice JSON formatted response, which pandas can convert to a dataframe without any help.\n",
    "\n",
    "The main way to interact via mwviews is the PageviewsClient object, which we will create as `p` for short."
   ]
  },
  {
   "cell_type": "code",
   "execution_count": null,
   "metadata": {},
   "outputs": [],
   "source": []
  },
  {
   "cell_type": "code",
   "execution_count": 9,
   "metadata": {},
   "outputs": [],
   "source": [
    "your_contact_info = \"stuart@stuartgeiger.com\""
   ]
  },
  {
   "cell_type": "code",
   "execution_count": 10,
   "metadata": {
    "colab": {},
    "colab_type": "code",
    "id": "IxLJWC9vg7Kr"
   },
   "outputs": [],
   "source": [
    "from mwviews.api import PageviewsClient\n",
    "\n",
    "p = PageviewsClient(user_agent=\"Python query script by \" + your_contact_info)"
   ]
  },
  {
   "cell_type": "markdown",
   "metadata": {
    "colab_type": "text",
    "id": "GfjyzLFmg7Kw"
   },
   "source": [
    "When we query the API for the view data, we can set many variables in ```p.article_views()```. We pass in ```senate_list``` as our list of articles. Granularity can be monthly or daily, and start and end dates are formatted as YYYYMMDDHH. You have to include precise start and end dates by the hour, and it will not give super helpful error messages if you do things lie set your end date before your start date or things like that. And also know that the pageview data only goes back a few years."
   ]
  },
  {
   "cell_type": "code",
   "execution_count": 11,
   "metadata": {
    "colab": {},
    "colab_type": "code",
    "id": "52NR9kGPg7Ky"
   },
   "outputs": [],
   "source": [
    "senate_views = p.article_views(project='en.wikipedia', \n",
    "                            articles=senate_list, \n",
    "                            granularity='monthly', \n",
    "                            start='2016010100', \n",
    "                            end='2018123123')\n",
    "\n",
    "senate_df = pd.DataFrame(senate_views)"
   ]
  },
  {
   "cell_type": "markdown",
   "metadata": {
    "colab_type": "text",
    "id": "AfmIM618g7K-"
   },
   "source": [
    "If we peek at the first 10 rows and 5 columns in the dataframe, we see it is formatted with one row per page, and one column per month:"
   ]
  },
  {
   "cell_type": "code",
   "execution_count": 12,
   "metadata": {
    "colab": {},
    "colab_type": "code",
    "id": "LckS81rpg7K_",
    "outputId": "10ef6067-a63d-4de6-b8d8-25bc2abea330"
   },
   "outputs": [
    {
     "data": {
      "text/html": [
       "<div>\n",
       "<style scoped>\n",
       "    .dataframe tbody tr th:only-of-type {\n",
       "        vertical-align: middle;\n",
       "    }\n",
       "\n",
       "    .dataframe tbody tr th {\n",
       "        vertical-align: top;\n",
       "    }\n",
       "\n",
       "    .dataframe thead th {\n",
       "        text-align: right;\n",
       "    }\n",
       "</style>\n",
       "<table border=\"1\" class=\"dataframe\">\n",
       "  <thead>\n",
       "    <tr style=\"text-align: right;\">\n",
       "      <th></th>\n",
       "      <th>2016-03-01 00:00:00</th>\n",
       "      <th>2016-07-01 00:00:00</th>\n",
       "      <th>2016-09-01 00:00:00</th>\n",
       "      <th>2017-09-01 00:00:00</th>\n",
       "      <th>2017-11-01 00:00:00</th>\n",
       "    </tr>\n",
       "  </thead>\n",
       "  <tbody>\n",
       "    <tr>\n",
       "      <th>Al_Franken</th>\n",
       "      <td>69646.0</td>\n",
       "      <td>143641.0</td>\n",
       "      <td>37181.0</td>\n",
       "      <td>83442.0</td>\n",
       "      <td>941293.0</td>\n",
       "    </tr>\n",
       "    <tr>\n",
       "      <th>Amy_Klobuchar</th>\n",
       "      <td>22588.0</td>\n",
       "      <td>36931.0</td>\n",
       "      <td>9495.0</td>\n",
       "      <td>32885.0</td>\n",
       "      <td>39919.0</td>\n",
       "    </tr>\n",
       "    <tr>\n",
       "      <th>Angus_King</th>\n",
       "      <td>18929.0</td>\n",
       "      <td>16043.0</td>\n",
       "      <td>10410.0</td>\n",
       "      <td>15717.0</td>\n",
       "      <td>21210.0</td>\n",
       "    </tr>\n",
       "    <tr>\n",
       "      <th>Ben_Cardin</th>\n",
       "      <td>7535.0</td>\n",
       "      <td>6656.0</td>\n",
       "      <td>4803.0</td>\n",
       "      <td>7834.0</td>\n",
       "      <td>10892.0</td>\n",
       "    </tr>\n",
       "    <tr>\n",
       "      <th>Ben_Sasse</th>\n",
       "      <td>46198.0</td>\n",
       "      <td>21502.0</td>\n",
       "      <td>10977.0</td>\n",
       "      <td>33255.0</td>\n",
       "      <td>25537.0</td>\n",
       "    </tr>\n",
       "    <tr>\n",
       "      <th>Bernie_Sanders</th>\n",
       "      <td>2026130.0</td>\n",
       "      <td>684501.0</td>\n",
       "      <td>221556.0</td>\n",
       "      <td>146213.0</td>\n",
       "      <td>204920.0</td>\n",
       "    </tr>\n",
       "    <tr>\n",
       "      <th>Bill_Cassidy</th>\n",
       "      <td>5963.0</td>\n",
       "      <td>6895.0</td>\n",
       "      <td>3856.0</td>\n",
       "      <td>72223.0</td>\n",
       "      <td>8282.0</td>\n",
       "    </tr>\n",
       "    <tr>\n",
       "      <th>Bill_Nelson</th>\n",
       "      <td>20002.0</td>\n",
       "      <td>13005.0</td>\n",
       "      <td>9691.0</td>\n",
       "      <td>25957.0</td>\n",
       "      <td>12515.0</td>\n",
       "    </tr>\n",
       "    <tr>\n",
       "      <th>Bob_Casey_Jr.</th>\n",
       "      <td>110.0</td>\n",
       "      <td>8934.0</td>\n",
       "      <td>3562.0</td>\n",
       "      <td>8948.0</td>\n",
       "      <td>10328.0</td>\n",
       "    </tr>\n",
       "    <tr>\n",
       "      <th>Bob_Corker</th>\n",
       "      <td>10139.0</td>\n",
       "      <td>41705.0</td>\n",
       "      <td>8985.0</td>\n",
       "      <td>48535.0</td>\n",
       "      <td>27702.0</td>\n",
       "    </tr>\n",
       "  </tbody>\n",
       "</table>\n",
       "</div>"
      ],
      "text/plain": [
       "                2016-03-01  2016-07-01  2016-09-01  2017-09-01  2017-11-01\n",
       "Al_Franken         69646.0    143641.0     37181.0     83442.0    941293.0\n",
       "Amy_Klobuchar      22588.0     36931.0      9495.0     32885.0     39919.0\n",
       "Angus_King         18929.0     16043.0     10410.0     15717.0     21210.0\n",
       "Ben_Cardin          7535.0      6656.0      4803.0      7834.0     10892.0\n",
       "Ben_Sasse          46198.0     21502.0     10977.0     33255.0     25537.0\n",
       "Bernie_Sanders   2026130.0    684501.0    221556.0    146213.0    204920.0\n",
       "Bill_Cassidy        5963.0      6895.0      3856.0     72223.0      8282.0\n",
       "Bill_Nelson        20002.0     13005.0      9691.0     25957.0     12515.0\n",
       "Bob_Casey_Jr.        110.0      8934.0      3562.0      8948.0     10328.0\n",
       "Bob_Corker         10139.0     41705.0      8985.0     48535.0     27702.0"
      ]
     },
     "execution_count": 12,
     "metadata": {},
     "output_type": "execute_result"
    }
   ],
   "source": [
    "senate_df.iloc[0:10, 0:5]"
   ]
  },
  {
   "cell_type": "markdown",
   "metadata": {
    "colab_type": "text",
    "id": "OLFF01dCg7LH"
   },
   "source": [
    "We transpose this (switching rows and columns), then set the index of each row to a more readable string, Year-Month:"
   ]
  },
  {
   "cell_type": "code",
   "execution_count": 13,
   "metadata": {
    "colab": {},
    "colab_type": "code",
    "id": "7kbtnJ2-g7LJ"
   },
   "outputs": [],
   "source": [
    "senate_df = senate_df.transpose()\n",
    "senate_df = senate_df.set_index(senate_df.index.strftime(\"%Y-%m\")).sort_index()"
   ]
  },
  {
   "cell_type": "code",
   "execution_count": 14,
   "metadata": {
    "colab": {},
    "colab_type": "code",
    "id": "ltISh0oHg7LN",
    "outputId": "7e8fa71b-6301-4f1f-d6f4-32abdef596ed"
   },
   "outputs": [
    {
     "data": {
      "text/html": [
       "<div>\n",
       "<style scoped>\n",
       "    .dataframe tbody tr th:only-of-type {\n",
       "        vertical-align: middle;\n",
       "    }\n",
       "\n",
       "    .dataframe tbody tr th {\n",
       "        vertical-align: top;\n",
       "    }\n",
       "\n",
       "    .dataframe thead th {\n",
       "        text-align: right;\n",
       "    }\n",
       "</style>\n",
       "<table border=\"1\" class=\"dataframe\">\n",
       "  <thead>\n",
       "    <tr style=\"text-align: right;\">\n",
       "      <th></th>\n",
       "      <th>Al_Franken</th>\n",
       "      <th>Amy_Klobuchar</th>\n",
       "      <th>Angus_King</th>\n",
       "      <th>Ben_Cardin</th>\n",
       "      <th>Ben_Sasse</th>\n",
       "      <th>Bernie_Sanders</th>\n",
       "      <th>Bill_Cassidy</th>\n",
       "      <th>Bill_Nelson</th>\n",
       "      <th>Bob_Casey_Jr.</th>\n",
       "      <th>Bob_Corker</th>\n",
       "    </tr>\n",
       "  </thead>\n",
       "  <tbody>\n",
       "    <tr>\n",
       "      <th>2016-01</th>\n",
       "      <td>40768.0</td>\n",
       "      <td>10282.0</td>\n",
       "      <td>13743.0</td>\n",
       "      <td>5774.0</td>\n",
       "      <td>19451.0</td>\n",
       "      <td>1727456.0</td>\n",
       "      <td>4499.0</td>\n",
       "      <td>13754.0</td>\n",
       "      <td>88.0</td>\n",
       "      <td>7418.0</td>\n",
       "    </tr>\n",
       "    <tr>\n",
       "      <th>2016-02</th>\n",
       "      <td>42661.0</td>\n",
       "      <td>40245.0</td>\n",
       "      <td>19517.0</td>\n",
       "      <td>7716.0</td>\n",
       "      <td>28501.0</td>\n",
       "      <td>3588261.0</td>\n",
       "      <td>5482.0</td>\n",
       "      <td>20045.0</td>\n",
       "      <td>101.0</td>\n",
       "      <td>10224.0</td>\n",
       "    </tr>\n",
       "    <tr>\n",
       "      <th>2016-03</th>\n",
       "      <td>69646.0</td>\n",
       "      <td>22588.0</td>\n",
       "      <td>18929.0</td>\n",
       "      <td>7535.0</td>\n",
       "      <td>46198.0</td>\n",
       "      <td>2026130.0</td>\n",
       "      <td>5963.0</td>\n",
       "      <td>20002.0</td>\n",
       "      <td>110.0</td>\n",
       "      <td>10139.0</td>\n",
       "    </tr>\n",
       "    <tr>\n",
       "      <th>2016-04</th>\n",
       "      <td>43087.0</td>\n",
       "      <td>19740.0</td>\n",
       "      <td>13951.0</td>\n",
       "      <td>7733.0</td>\n",
       "      <td>9943.0</td>\n",
       "      <td>1337991.0</td>\n",
       "      <td>5047.0</td>\n",
       "      <td>12413.0</td>\n",
       "      <td>95.0</td>\n",
       "      <td>8403.0</td>\n",
       "    </tr>\n",
       "    <tr>\n",
       "      <th>2016-05</th>\n",
       "      <td>66366.0</td>\n",
       "      <td>16663.0</td>\n",
       "      <td>13341.0</td>\n",
       "      <td>5532.0</td>\n",
       "      <td>78686.0</td>\n",
       "      <td>787078.0</td>\n",
       "      <td>4644.0</td>\n",
       "      <td>11750.0</td>\n",
       "      <td>2146.0</td>\n",
       "      <td>53781.0</td>\n",
       "    </tr>\n",
       "  </tbody>\n",
       "</table>\n",
       "</div>"
      ],
      "text/plain": [
       "         Al_Franken  Amy_Klobuchar  Angus_King  Ben_Cardin  Ben_Sasse  \\\n",
       "2016-01     40768.0        10282.0     13743.0      5774.0    19451.0   \n",
       "2016-02     42661.0        40245.0     19517.0      7716.0    28501.0   \n",
       "2016-03     69646.0        22588.0     18929.0      7535.0    46198.0   \n",
       "2016-04     43087.0        19740.0     13951.0      7733.0     9943.0   \n",
       "2016-05     66366.0        16663.0     13341.0      5532.0    78686.0   \n",
       "\n",
       "         Bernie_Sanders  Bill_Cassidy  Bill_Nelson  Bob_Casey_Jr.  Bob_Corker  \n",
       "2016-01       1727456.0        4499.0      13754.0           88.0      7418.0  \n",
       "2016-02       3588261.0        5482.0      20045.0          101.0     10224.0  \n",
       "2016-03       2026130.0        5963.0      20002.0          110.0     10139.0  \n",
       "2016-04       1337991.0        5047.0      12413.0           95.0      8403.0  \n",
       "2016-05        787078.0        4644.0      11750.0         2146.0     53781.0  "
      ]
     },
     "execution_count": 14,
     "metadata": {},
     "output_type": "execute_result"
    }
   ],
   "source": [
    "senate_df.iloc[0:5, 0:10]"
   ]
  },
  {
   "cell_type": "markdown",
   "metadata": {
    "colab_type": "text",
    "id": "4aGKS9Jhg7LT"
   },
   "source": [
    "We can get the sum for each page by running .sum(), and we can peek into the first five pages:"
   ]
  },
  {
   "cell_type": "code",
   "execution_count": 15,
   "metadata": {
    "colab": {},
    "colab_type": "code",
    "id": "cYAhUIidg7LU",
    "outputId": "4df7bcbc-8dd8-4b6d-ecf7-f16d93afe07a"
   },
   "outputs": [
    {
     "data": {
      "text/plain": [
       "Al_Franken       4729093.0\n",
       "Amy_Klobuchar    1682276.0\n",
       "Angus_King       1107258.0\n",
       "Ben_Cardin        458593.0\n",
       "Ben_Sasse        1733932.0\n",
       "dtype: float64"
      ]
     },
     "execution_count": 15,
     "metadata": {},
     "output_type": "execute_result"
    }
   ],
   "source": [
    "senate_sum = senate_df.sum()\n",
    "senate_sum[0:5]"
   ]
  },
  {
   "cell_type": "markdown",
   "metadata": {
    "colab_type": "text",
    "id": "-TdyQe1lg7La"
   },
   "source": [
    "We can get the sum for each month by transposing back and running .sum() on the dataframe:"
   ]
  },
  {
   "cell_type": "code",
   "execution_count": 16,
   "metadata": {
    "colab": {},
    "colab_type": "code",
    "id": "_MKH4DHjg7Lb",
    "outputId": "40a6492a-fa51-49da-cf06-2d5dfee6e9a2"
   },
   "outputs": [
    {
     "data": {
      "text/plain": [
       "2016-01     5261734.0\n",
       "2016-02    10081944.0\n",
       "2016-03     7136609.0\n",
       "2016-04     3931109.0\n",
       "2016-05     3493508.0\n",
       "2016-06     3358614.0\n",
       "2016-07     6661905.0\n",
       "2016-08     2012990.0\n",
       "2016-09     2000842.0\n",
       "2016-10     3647561.0\n",
       "2016-11     6361233.0\n",
       "2016-12     2352725.0\n",
       "2017-01     5803284.0\n",
       "2017-02     4912876.0\n",
       "2017-03     3882319.0\n",
       "2017-04     2520009.0\n",
       "2017-05     3626457.0\n",
       "2017-06     5212799.0\n",
       "2017-07     4328612.0\n",
       "2017-08     3130511.0\n",
       "2017-09     2922062.0\n",
       "2017-10     3207716.0\n",
       "2017-11     4221156.0\n",
       "2017-12     4313695.0\n",
       "2018-01     4608436.0\n",
       "2018-02     2645557.0\n",
       "2018-03     2469501.0\n",
       "2018-04     3187750.0\n",
       "2018-05     2793076.0\n",
       "2018-06     2431813.0\n",
       "2018-07     2885088.0\n",
       "2018-08     8292917.0\n",
       "2018-09    11879426.0\n",
       "2018-10     8232705.0\n",
       "2018-11     6258168.0\n",
       "2018-12     3545886.0\n",
       "dtype: float64"
      ]
     },
     "execution_count": 16,
     "metadata": {},
     "output_type": "execute_result"
    }
   ],
   "source": [
    "senate_monthly_sum = senate_df.transpose().sum()\n",
    "senate_monthly_sum"
   ]
  },
  {
   "cell_type": "markdown",
   "metadata": {
    "colab_type": "text",
    "id": "0f8t6KdPg7Lh"
   },
   "source": [
    "And we can get the sum of all the months from 2016-01 to 2018-12 by summing the monthly sum, which gives us 163.6 million pageviews:"
   ]
  },
  {
   "cell_type": "code",
   "execution_count": 17,
   "metadata": {
    "colab": {},
    "colab_type": "code",
    "id": "v1q7fN-Ag7Li",
    "outputId": "ae209668-5ef4-4ac9-cf71-8d55972eaea0"
   },
   "outputs": [
    {
     "data": {
      "text/plain": [
       "163612593.0"
      ]
     },
     "execution_count": 17,
     "metadata": {},
     "output_type": "execute_result"
    }
   ],
   "source": [
    "senate_monthly_sum.sum()"
   ]
  },
  {
   "cell_type": "markdown",
   "metadata": {
    "colab_type": "text",
    "id": "3YquhMs1g7Lo"
   },
   "source": [
    "We can use the built-in plotting functionality in pandas dataframes to show a monthly plot. You can adjust kind to be many types, including bar, line, and area."
   ]
  },
  {
   "cell_type": "code",
   "execution_count": 18,
   "metadata": {
    "colab": {},
    "colab_type": "code",
    "id": "QjC3fuPtg7Lq",
    "outputId": "788e311e-6a28-4673-9a32-9880986fd1c6"
   },
   "outputs": [
    {
     "data": {
      "text/plain": [
       "Text(0, 0.5, 'Month')"
      ]
     },
     "execution_count": 18,
     "metadata": {},
     "output_type": "execute_result"
    },
    {
     "data": {
      "image/png": "[encoded data removed]",
      "text/plain": [
       "<Figure size 1008x576 with 1 Axes>"
      ]
     },
     "metadata": {
      "needs_background": "light"
     },
     "output_type": "display_data"
    }
   ],
   "source": [
    "fig = plt.figure()\n",
    "plt.title(\"Monthly Wikipedia pageviews for all U.S. Senators\")\n",
    "plt.ticklabel_format(style = 'plain')\n",
    "\n",
    "ax = senate_monthly_sum.plot(kind='bar', figsize=[14,8], color=\"purple\")\n",
    "\n",
    "ax.set_xlabel(\"Monthly pageviews\")\n",
    "ax.set_ylabel(\"Month\")\n"
   ]
  },
  {
   "cell_type": "markdown",
   "metadata": {
    "colab_type": "text",
    "collapsed": true,
    "id": "4h9JtSjAg7Lu"
   },
   "source": [
    "### The House\n",
    "\n",
    "We do the same thing for the House of Representatives, only with different variables. Recall that ```house_list``` is our list of titles:"
   ]
  },
  {
   "cell_type": "code",
   "execution_count": 19,
   "metadata": {
    "colab": {},
    "colab_type": "code",
    "id": "FxYR3D1mg7Lv",
    "outputId": "da7e216e-0f10-462a-aacf-12e7d14dc58e"
   },
   "outputs": [
    {
     "data": {
      "text/plain": [
       "['Bradley Byrne', 'Martha Roby', 'Mike Rogers', 'Robert Aderholt', 'Mo Brooks']"
      ]
     },
     "execution_count": 19,
     "metadata": {},
     "output_type": "execute_result"
    }
   ],
   "source": [
    "house_list[0:5]"
   ]
  },
  {
   "cell_type": "code",
   "execution_count": 20,
   "metadata": {
    "colab": {},
    "colab_type": "code",
    "id": "BrzcHoKyg7Lz",
    "outputId": "bb5cf5ed-6fd4-4db3-fc06-e591dc694850"
   },
   "outputs": [
    {
     "data": {
      "text/html": [
       "<div>\n",
       "<style scoped>\n",
       "    .dataframe tbody tr th:only-of-type {\n",
       "        vertical-align: middle;\n",
       "    }\n",
       "\n",
       "    .dataframe tbody tr th {\n",
       "        vertical-align: top;\n",
       "    }\n",
       "\n",
       "    .dataframe thead th {\n",
       "        text-align: right;\n",
       "    }\n",
       "</style>\n",
       "<table border=\"1\" class=\"dataframe\">\n",
       "  <thead>\n",
       "    <tr style=\"text-align: right;\">\n",
       "      <th></th>\n",
       "      <th>2016-03-01 00:00:00</th>\n",
       "      <th>2016-07-01 00:00:00</th>\n",
       "      <th>2016-09-01 00:00:00</th>\n",
       "      <th>2017-09-01 00:00:00</th>\n",
       "      <th>2017-11-01 00:00:00</th>\n",
       "    </tr>\n",
       "  </thead>\n",
       "  <tbody>\n",
       "    <tr>\n",
       "      <th>Adam_Kinzinger</th>\n",
       "      <td>12940.0</td>\n",
       "      <td>7217.0</td>\n",
       "      <td>6846.0</td>\n",
       "      <td>7401</td>\n",
       "      <td>10311</td>\n",
       "    </tr>\n",
       "    <tr>\n",
       "      <th>Adam_Schiff</th>\n",
       "      <td>5578.0</td>\n",
       "      <td>7501.0</td>\n",
       "      <td>5068.0</td>\n",
       "      <td>18257</td>\n",
       "      <td>20692</td>\n",
       "    </tr>\n",
       "    <tr>\n",
       "      <th>Adam_Smith_(politician)</th>\n",
       "      <td>3012.0</td>\n",
       "      <td>2939.0</td>\n",
       "      <td>2802.0</td>\n",
       "      <td>2551</td>\n",
       "      <td>3023</td>\n",
       "    </tr>\n",
       "    <tr>\n",
       "      <th>Adrian_Smith_(politician)</th>\n",
       "      <td>1354.0</td>\n",
       "      <td>1151.0</td>\n",
       "      <td>1363.0</td>\n",
       "      <td>1689</td>\n",
       "      <td>1893</td>\n",
       "    </tr>\n",
       "    <tr>\n",
       "      <th>Adriano_Espaillat</th>\n",
       "      <td>987.0</td>\n",
       "      <td>5360.0</td>\n",
       "      <td>2754.0</td>\n",
       "      <td>6982</td>\n",
       "      <td>5930</td>\n",
       "    </tr>\n",
       "  </tbody>\n",
       "</table>\n",
       "</div>"
      ],
      "text/plain": [
       "                           2016-03-01  2016-07-01  2016-09-01  2017-09-01  \\\n",
       "Adam_Kinzinger                12940.0      7217.0      6846.0        7401   \n",
       "Adam_Schiff                    5578.0      7501.0      5068.0       18257   \n",
       "Adam_Smith_(politician)        3012.0      2939.0      2802.0        2551   \n",
       "Adrian_Smith_(politician)      1354.0      1151.0      1363.0        1689   \n",
       "Adriano_Espaillat               987.0      5360.0      2754.0        6982   \n",
       "\n",
       "                           2017-11-01  \n",
       "Adam_Kinzinger                  10311  \n",
       "Adam_Schiff                     20692  \n",
       "Adam_Smith_(politician)          3023  \n",
       "Adrian_Smith_(politician)        1893  \n",
       "Adriano_Espaillat                5930  "
      ]
     },
     "execution_count": 20,
     "metadata": {},
     "output_type": "execute_result"
    }
   ],
   "source": [
    "house_views = p.article_views(project='en.wikipedia', \n",
    "                              articles=house_list, \n",
    "                              granularity='monthly', \n",
    "                              start='2016010100', \n",
    "                              end='2018123123')\n",
    "                              \n",
    "house_df = pd.DataFrame(house_views)\n",
    "house_df.iloc[0:5, 0:5]"
   ]
  },
  {
   "cell_type": "code",
   "execution_count": 21,
   "metadata": {
    "colab": {},
    "colab_type": "code",
    "id": "LGyfwEGqg7L3",
    "outputId": "a90b5335-bb71-44db-c278-ce2d9461cd24"
   },
   "outputs": [
    {
     "data": {
      "text/html": [
       "<div>\n",
       "<style scoped>\n",
       "    .dataframe tbody tr th:only-of-type {\n",
       "        vertical-align: middle;\n",
       "    }\n",
       "\n",
       "    .dataframe tbody tr th {\n",
       "        vertical-align: top;\n",
       "    }\n",
       "\n",
       "    .dataframe thead th {\n",
       "        text-align: right;\n",
       "    }\n",
       "</style>\n",
       "<table border=\"1\" class=\"dataframe\">\n",
       "  <thead>\n",
       "    <tr style=\"text-align: right;\">\n",
       "      <th></th>\n",
       "      <th>Adam_Kinzinger</th>\n",
       "      <th>Adam_Schiff</th>\n",
       "      <th>Adam_Smith_(politician)</th>\n",
       "      <th>Adrian_Smith_(politician)</th>\n",
       "      <th>Adriano_Espaillat</th>\n",
       "    </tr>\n",
       "  </thead>\n",
       "  <tbody>\n",
       "    <tr>\n",
       "      <th>2016-01</th>\n",
       "      <td>8169.0</td>\n",
       "      <td>4703.0</td>\n",
       "      <td>2587.0</td>\n",
       "      <td>1187.0</td>\n",
       "      <td>1000.0</td>\n",
       "    </tr>\n",
       "    <tr>\n",
       "      <th>2016-02</th>\n",
       "      <td>8125.0</td>\n",
       "      <td>4105.0</td>\n",
       "      <td>2627.0</td>\n",
       "      <td>1226.0</td>\n",
       "      <td>901.0</td>\n",
       "    </tr>\n",
       "    <tr>\n",
       "      <th>2016-03</th>\n",
       "      <td>12940.0</td>\n",
       "      <td>5578.0</td>\n",
       "      <td>3012.0</td>\n",
       "      <td>1354.0</td>\n",
       "      <td>987.0</td>\n",
       "    </tr>\n",
       "    <tr>\n",
       "      <th>2016-04</th>\n",
       "      <td>6579.0</td>\n",
       "      <td>6541.0</td>\n",
       "      <td>2712.0</td>\n",
       "      <td>1368.0</td>\n",
       "      <td>1296.0</td>\n",
       "    </tr>\n",
       "    <tr>\n",
       "      <th>2016-05</th>\n",
       "      <td>10515.0</td>\n",
       "      <td>6649.0</td>\n",
       "      <td>2400.0</td>\n",
       "      <td>1295.0</td>\n",
       "      <td>1061.0</td>\n",
       "    </tr>\n",
       "  </tbody>\n",
       "</table>\n",
       "</div>"
      ],
      "text/plain": [
       "         Adam_Kinzinger  Adam_Schiff  Adam_Smith_(politician)  \\\n",
       "2016-01          8169.0       4703.0                   2587.0   \n",
       "2016-02          8125.0       4105.0                   2627.0   \n",
       "2016-03         12940.0       5578.0                   3012.0   \n",
       "2016-04          6579.0       6541.0                   2712.0   \n",
       "2016-05         10515.0       6649.0                   2400.0   \n",
       "\n",
       "         Adrian_Smith_(politician)  Adriano_Espaillat  \n",
       "2016-01                     1187.0             1000.0  \n",
       "2016-02                     1226.0              901.0  \n",
       "2016-03                     1354.0              987.0  \n",
       "2016-04                     1368.0             1296.0  \n",
       "2016-05                     1295.0             1061.0  "
      ]
     },
     "execution_count": 21,
     "metadata": {},
     "output_type": "execute_result"
    }
   ],
   "source": [
    "house_df = house_df.transpose()\n",
    "house_df = house_df.set_index(house_df.index.strftime(\"%Y-%m\")).sort_index()\n",
    "house_df.iloc[0:5, 0:5]"
   ]
  },
  {
   "cell_type": "code",
   "execution_count": 22,
   "metadata": {
    "colab": {},
    "colab_type": "code",
    "id": "tNzuoJ77g7L7",
    "outputId": "b823a8ce-c9fb-49bb-ac4f-f28ccb391284"
   },
   "outputs": [
    {
     "data": {
      "text/plain": [
       "Adam_Kinzinger                517026.0\n",
       "Adam_Schiff                  1529166.0\n",
       "Adam_Smith_(politician)       137867.0\n",
       "Adrian_Smith_(politician)      65034.0\n",
       "Adriano_Espaillat             187250.0\n",
       "dtype: float64"
      ]
     },
     "execution_count": 22,
     "metadata": {},
     "output_type": "execute_result"
    }
   ],
   "source": [
    "house_sum = house_df.sum()\n",
    "house_sum[0:5]"
   ]
  },
  {
   "cell_type": "code",
   "execution_count": 23,
   "metadata": {
    "colab": {},
    "colab_type": "code",
    "id": "ugmP6yBXg7ME",
    "outputId": "c72d3374-10db-4933-f5e9-310d17039c08"
   },
   "outputs": [
    {
     "data": {
      "text/plain": [
       "2016-01     1608732.0\n",
       "2016-02     1918133.0\n",
       "2016-03     2131159.0\n",
       "2016-04     1727960.0\n",
       "2016-05     1940369.0\n",
       "2016-06     1983199.0\n",
       "2016-07     3009143.0\n",
       "2016-08     1644636.0\n",
       "2016-09     1609682.0\n",
       "2016-10     2558133.0\n",
       "2016-11     5095820.0\n",
       "2016-12     2408666.0\n",
       "2017-01     4190713.0\n",
       "2017-02     3905450.0\n",
       "2017-03     5931667.0\n",
       "2017-04     3067144.0\n",
       "2017-05     3794859.0\n",
       "2017-06     3921347.0\n",
       "2017-07     2791601.0\n",
       "2017-08     2388308.0\n",
       "2017-09     2264702.0\n",
       "2017-10     3138822.0\n",
       "2017-11     3182808.0\n",
       "2017-12     3905840.0\n",
       "2018-01     4212512.0\n",
       "2018-02     3938454.0\n",
       "2018-03     3329259.0\n",
       "2018-04     4593766.0\n",
       "2018-05     2741945.0\n",
       "2018-06     3504612.0\n",
       "2018-07     3776133.0\n",
       "2018-08     4429837.0\n",
       "2018-09     4419768.0\n",
       "2018-10     5783828.0\n",
       "2018-11    11368461.0\n",
       "2018-12     4448236.0\n",
       "dtype: float64"
      ]
     },
     "execution_count": 23,
     "metadata": {},
     "output_type": "execute_result"
    }
   ],
   "source": [
    "house_monthly_sum = house_df.transpose().sum()\n",
    "house_monthly_sum"
   ]
  },
  {
   "cell_type": "code",
   "execution_count": 24,
   "metadata": {
    "colab": {},
    "colab_type": "code",
    "id": "gf9KXeK6g7MK",
    "outputId": "5f9d6072-f44f-49c1-be75-c6b7426fc7bd"
   },
   "outputs": [
    {
     "data": {
      "text/plain": [
       "126665704.0"
      ]
     },
     "execution_count": 24,
     "metadata": {},
     "output_type": "execute_result"
    }
   ],
   "source": [
    "house_monthly_sum.sum()"
   ]
  },
  {
   "cell_type": "markdown",
   "metadata": {
    "colab_type": "text",
    "id": "pAYdLW-5g7MP"
   },
   "source": [
    "This gives us 126.6 million total pageviews for House reps."
   ]
  },
  {
   "cell_type": "code",
   "execution_count": 25,
   "metadata": {
    "colab": {},
    "colab_type": "code",
    "id": "98gbk4pFg7MQ",
    "outputId": "5e163d81-d2f6-468b-8c4c-5686e276ec27"
   },
   "outputs": [
    {
     "data": {
      "text/plain": [
       "Text(0, 0.5, 'Month')"
      ]
     },
     "execution_count": 25,
     "metadata": {},
     "output_type": "execute_result"
    },
    {
     "data": {
      "image/png": "[encoded data removed]",
      "text/plain": [
       "<Figure size 1008x576 with 1 Axes>"
      ]
     },
     "metadata": {
      "needs_background": "light"
     },
     "output_type": "display_data"
    }
   ],
   "source": [
    "fig = plt.figure()\n",
    "plt.title(\"Monthly Wikipedia pageviews for U.S. House of Representatives\")\n",
    "plt.ticklabel_format(style = 'plain')\n",
    "\n",
    "ax = house_monthly_sum.plot(kind='bar', figsize=[14,8], color=\"purple\")\n",
    "ax.set_xlabel(\"Monthly pageviews\")\n",
    "ax.set_ylabel(\"Month\")\n"
   ]
  },
  {
   "cell_type": "markdown",
   "metadata": {
    "colab_type": "text",
    "id": "PyWQZZNSg7MY"
   },
   "source": [
    "## Combining the datasets\n",
    "\n",
    "We have to transpose each dataset back, then append one to the other:"
   ]
  },
  {
   "cell_type": "code",
   "execution_count": 26,
   "metadata": {
    "colab": {},
    "colab_type": "code",
    "id": "Xq5qjjxHg7Ma",
    "outputId": "53c16d66-b83a-47ea-9f57-991571acb652"
   },
   "outputs": [
    {
     "data": {
      "text/html": [
       "<div>\n",
       "<style scoped>\n",
       "    .dataframe tbody tr th:only-of-type {\n",
       "        vertical-align: middle;\n",
       "    }\n",
       "\n",
       "    .dataframe tbody tr th {\n",
       "        vertical-align: top;\n",
       "    }\n",
       "\n",
       "    .dataframe thead th {\n",
       "        text-align: right;\n",
       "    }\n",
       "</style>\n",
       "<table border=\"1\" class=\"dataframe\">\n",
       "  <thead>\n",
       "    <tr style=\"text-align: right;\">\n",
       "      <th></th>\n",
       "      <th>2016-01</th>\n",
       "      <th>2016-02</th>\n",
       "      <th>2016-03</th>\n",
       "      <th>2016-04</th>\n",
       "      <th>2016-05</th>\n",
       "      <th>2016-06</th>\n",
       "      <th>2016-07</th>\n",
       "      <th>2016-08</th>\n",
       "      <th>2016-09</th>\n",
       "      <th>2016-10</th>\n",
       "    </tr>\n",
       "  </thead>\n",
       "  <tbody>\n",
       "    <tr>\n",
       "      <th>Adam_Kinzinger</th>\n",
       "      <td>8169.0</td>\n",
       "      <td>8125.0</td>\n",
       "      <td>12940.0</td>\n",
       "      <td>6579.0</td>\n",
       "      <td>10515.0</td>\n",
       "      <td>12002.0</td>\n",
       "      <td>7217.0</td>\n",
       "      <td>22613.0</td>\n",
       "      <td>6846.0</td>\n",
       "      <td>6869.0</td>\n",
       "    </tr>\n",
       "    <tr>\n",
       "      <th>Adam_Schiff</th>\n",
       "      <td>4703.0</td>\n",
       "      <td>4105.0</td>\n",
       "      <td>5578.0</td>\n",
       "      <td>6541.0</td>\n",
       "      <td>6649.0</td>\n",
       "      <td>12993.0</td>\n",
       "      <td>7501.0</td>\n",
       "      <td>4760.0</td>\n",
       "      <td>5068.0</td>\n",
       "      <td>8318.0</td>\n",
       "    </tr>\n",
       "    <tr>\n",
       "      <th>Adam_Smith_(politician)</th>\n",
       "      <td>2587.0</td>\n",
       "      <td>2627.0</td>\n",
       "      <td>3012.0</td>\n",
       "      <td>2712.0</td>\n",
       "      <td>2400.0</td>\n",
       "      <td>2770.0</td>\n",
       "      <td>2939.0</td>\n",
       "      <td>2458.0</td>\n",
       "      <td>2802.0</td>\n",
       "      <td>2841.0</td>\n",
       "    </tr>\n",
       "    <tr>\n",
       "      <th>Adrian_Smith_(politician)</th>\n",
       "      <td>1187.0</td>\n",
       "      <td>1226.0</td>\n",
       "      <td>1354.0</td>\n",
       "      <td>1368.0</td>\n",
       "      <td>1295.0</td>\n",
       "      <td>1285.0</td>\n",
       "      <td>1151.0</td>\n",
       "      <td>1432.0</td>\n",
       "      <td>1363.0</td>\n",
       "      <td>2004.0</td>\n",
       "    </tr>\n",
       "    <tr>\n",
       "      <th>Adriano_Espaillat</th>\n",
       "      <td>1000.0</td>\n",
       "      <td>901.0</td>\n",
       "      <td>987.0</td>\n",
       "      <td>1296.0</td>\n",
       "      <td>1061.0</td>\n",
       "      <td>5591.0</td>\n",
       "      <td>5360.0</td>\n",
       "      <td>1729.0</td>\n",
       "      <td>2754.0</td>\n",
       "      <td>2017.0</td>\n",
       "    </tr>\n",
       "    <tr>\n",
       "      <th>Al_Green_(politician)</th>\n",
       "      <td>2568.0</td>\n",
       "      <td>3326.0</td>\n",
       "      <td>2853.0</td>\n",
       "      <td>4527.0</td>\n",
       "      <td>3047.0</td>\n",
       "      <td>3243.0</td>\n",
       "      <td>3141.0</td>\n",
       "      <td>2028.0</td>\n",
       "      <td>2878.0</td>\n",
       "      <td>2915.0</td>\n",
       "    </tr>\n",
       "    <tr>\n",
       "      <th>Al_Lawson</th>\n",
       "      <td>44.0</td>\n",
       "      <td>27.0</td>\n",
       "      <td>34.0</td>\n",
       "      <td>30.0</td>\n",
       "      <td>36.0</td>\n",
       "      <td>34.0</td>\n",
       "      <td>68.0</td>\n",
       "      <td>479.0</td>\n",
       "      <td>1070.0</td>\n",
       "      <td>1185.0</td>\n",
       "    </tr>\n",
       "    <tr>\n",
       "      <th>Alan_Lowenthal</th>\n",
       "      <td>1550.0</td>\n",
       "      <td>1708.0</td>\n",
       "      <td>2245.0</td>\n",
       "      <td>2164.0</td>\n",
       "      <td>2151.0</td>\n",
       "      <td>2575.0</td>\n",
       "      <td>1760.0</td>\n",
       "      <td>1597.0</td>\n",
       "      <td>1455.0</td>\n",
       "      <td>2278.0</td>\n",
       "    </tr>\n",
       "    <tr>\n",
       "      <th>Albio_Sires</th>\n",
       "      <td>1791.0</td>\n",
       "      <td>2042.0</td>\n",
       "      <td>2663.0</td>\n",
       "      <td>2348.0</td>\n",
       "      <td>2126.0</td>\n",
       "      <td>2467.0</td>\n",
       "      <td>1960.0</td>\n",
       "      <td>1679.0</td>\n",
       "      <td>3582.0</td>\n",
       "      <td>2483.0</td>\n",
       "    </tr>\n",
       "    <tr>\n",
       "      <th>Alcee_Hastings</th>\n",
       "      <td>8234.0</td>\n",
       "      <td>5275.0</td>\n",
       "      <td>6950.0</td>\n",
       "      <td>4795.0</td>\n",
       "      <td>5958.0</td>\n",
       "      <td>5533.0</td>\n",
       "      <td>9017.0</td>\n",
       "      <td>4581.0</td>\n",
       "      <td>4075.0</td>\n",
       "      <td>4711.0</td>\n",
       "    </tr>\n",
       "  </tbody>\n",
       "</table>\n",
       "</div>"
      ],
      "text/plain": [
       "                           2016-01  2016-02  2016-03  2016-04  2016-05  \\\n",
       "Adam_Kinzinger              8169.0   8125.0  12940.0   6579.0  10515.0   \n",
       "Adam_Schiff                 4703.0   4105.0   5578.0   6541.0   6649.0   \n",
       "Adam_Smith_(politician)     2587.0   2627.0   3012.0   2712.0   2400.0   \n",
       "Adrian_Smith_(politician)   1187.0   1226.0   1354.0   1368.0   1295.0   \n",
       "Adriano_Espaillat           1000.0    901.0    987.0   1296.0   1061.0   \n",
       "Al_Green_(politician)       2568.0   3326.0   2853.0   4527.0   3047.0   \n",
       "Al_Lawson                     44.0     27.0     34.0     30.0     36.0   \n",
       "Alan_Lowenthal              1550.0   1708.0   2245.0   2164.0   2151.0   \n",
       "Albio_Sires                 1791.0   2042.0   2663.0   2348.0   2126.0   \n",
       "Alcee_Hastings              8234.0   5275.0   6950.0   4795.0   5958.0   \n",
       "\n",
       "                           2016-06  2016-07  2016-08  2016-09  2016-10  \n",
       "Adam_Kinzinger             12002.0   7217.0  22613.0   6846.0   6869.0  \n",
       "Adam_Schiff                12993.0   7501.0   4760.0   5068.0   8318.0  \n",
       "Adam_Smith_(politician)     2770.0   2939.0   2458.0   2802.0   2841.0  \n",
       "Adrian_Smith_(politician)   1285.0   1151.0   1432.0   1363.0   2004.0  \n",
       "Adriano_Espaillat           5591.0   5360.0   1729.0   2754.0   2017.0  \n",
       "Al_Green_(politician)       3243.0   3141.0   2028.0   2878.0   2915.0  \n",
       "Al_Lawson                     34.0     68.0    479.0   1070.0   1185.0  \n",
       "Alan_Lowenthal              2575.0   1760.0   1597.0   1455.0   2278.0  \n",
       "Albio_Sires                 2467.0   1960.0   1679.0   3582.0   2483.0  \n",
       "Alcee_Hastings              5533.0   9017.0   4581.0   4075.0   4711.0  "
      ]
     },
     "execution_count": 26,
     "metadata": {},
     "output_type": "execute_result"
    }
   ],
   "source": [
    "congress_df = house_df.transpose().append(senate_df.transpose())\n",
    "congress_df.iloc[0:10,0:10]"
   ]
  },
  {
   "cell_type": "code",
   "execution_count": 27,
   "metadata": {
    "colab": {},
    "colab_type": "code",
    "id": "uoZkME95g7Ml",
    "outputId": "6ebda6c2-383a-424e-fcd9-88b65c28d348"
   },
   "outputs": [
    {
     "data": {
      "text/plain": [
       "2016-01     6870466.0\n",
       "2016-02    12000077.0\n",
       "2016-03     9267768.0\n",
       "2016-04     5659069.0\n",
       "2016-05     5433877.0\n",
       "2016-06     5341813.0\n",
       "2016-07     9671048.0\n",
       "2016-08     3657626.0\n",
       "2016-09     3610524.0\n",
       "2016-10     6205694.0\n",
       "2016-11    11457053.0\n",
       "2016-12     4761391.0\n",
       "2017-01     9993997.0\n",
       "2017-02     8818326.0\n",
       "2017-03     9813986.0\n",
       "2017-04     5587153.0\n",
       "2017-05     7421316.0\n",
       "2017-06     9134146.0\n",
       "2017-07     7120213.0\n",
       "2017-08     5518819.0\n",
       "2017-09     5186764.0\n",
       "2017-10     6346538.0\n",
       "2017-11     7403964.0\n",
       "2017-12     8219535.0\n",
       "2018-01     8820948.0\n",
       "2018-02     6584011.0\n",
       "2018-03     5798760.0\n",
       "2018-04     7781516.0\n",
       "2018-05     5535021.0\n",
       "2018-06     5936425.0\n",
       "2018-07     6661221.0\n",
       "2018-08    12722754.0\n",
       "2018-09    16299194.0\n",
       "2018-10    14016533.0\n",
       "2018-11    17626629.0\n",
       "2018-12     7994122.0\n",
       "dtype: float64"
      ]
     },
     "execution_count": 27,
     "metadata": {},
     "output_type": "execute_result"
    }
   ],
   "source": [
    "congress_monthly_sum = congress_df.sum()\n",
    "congress_monthly_sum"
   ]
  },
  {
   "cell_type": "markdown",
   "metadata": {
    "colab_type": "text",
    "id": "FBSv7TWvg7Mp"
   },
   "source": [
    "Then to find the total pageviews, run sum on the sum. This is 290 million pageviews from January 2016 to December 2018 for all U.S. Members of Congress:"
   ]
  },
  {
   "cell_type": "code",
   "execution_count": 28,
   "metadata": {
    "colab": {},
    "colab_type": "code",
    "id": "vALwVWHkg7Mr",
    "outputId": "36e9d595-cd49-4e79-ab2d-a65aa87e11d8"
   },
   "outputs": [
    {
     "data": {
      "text/plain": [
       "290278297.0"
      ]
     },
     "execution_count": 28,
     "metadata": {},
     "output_type": "execute_result"
    }
   ],
   "source": [
    "congress_monthly_sum.sum()"
   ]
  },
  {
   "cell_type": "code",
   "execution_count": 29,
   "metadata": {
    "colab": {},
    "colab_type": "code",
    "id": "GY-0Ucusg7Mw",
    "outputId": "9539c31d-30d0-4873-bf79-0f5727ab8c8a"
   },
   "outputs": [
    {
     "data": {
      "text/plain": [
       "Text(0, 0.5, 'Month')"
      ]
     },
     "execution_count": 29,
     "metadata": {},
     "output_type": "execute_result"
    },
    {
     "data": {
      "image/png": "[encoded data removed]",
      "text/plain": [
       "<Figure size 1008x576 with 1 Axes>"
      ]
     },
     "metadata": {
      "needs_background": "light"
     },
     "output_type": "display_data"
    }
   ],
   "source": [
    "fig = plt.figure()\n",
    "plt.title(\"Monthly Wikipedia pageviews for current U.S. Members of Congress\")\n",
    "plt.ticklabel_format(style = 'plain')\n",
    "\n",
    "ax = congress_monthly_sum.plot(kind='bar', figsize=[14,8], color=\"purple\")\n",
    "\n",
    "ax.set_xlabel(\"Monthly pageviews\")\n",
    "ax.set_ylabel(\"Month\")\n",
    "\n"
   ]
  },
  {
   "cell_type": "markdown",
   "metadata": {
    "colab_type": "text",
    "id": "gEHj9E5Jg7M0"
   },
   "source": [
    "## Plotting a single page's views over time"
   ]
  },
  {
   "cell_type": "markdown",
   "metadata": {
    "colab_type": "text",
    "id": "dmp-35Fgg7M6"
   },
   "source": [
    "We can query the dataframe by index for a specific page, then plot it:"
   ]
  },
  {
   "cell_type": "code",
   "execution_count": 32,
   "metadata": {
    "colab": {},
    "colab_type": "code",
    "id": "J1CCHv-Tg7M7",
    "outputId": "cf3b35d7-26b6-4e8e-fb16-d031c810e8d8",
    "scrolled": false
   },
   "outputs": [
    {
     "data": {
      "text/plain": [
       "Text(0, 0.5, 'Month')"
      ]
     },
     "execution_count": 32,
     "metadata": {},
     "output_type": "execute_result"
    },
    {
     "data": {
      "image/png": "[encoded data removed]",
      "text/plain": [
       "<Figure size 1008x576 with 1 Axes>"
      ]
     },
     "metadata": {
      "needs_background": "light"
     },
     "output_type": "display_data"
    }
   ],
   "source": [
    "fig = plt.figure()\n",
    "plt.title(\"Monthly Wikipedia pageviews for Al Lawson\")\n",
    "plt.ticklabel_format(style = 'plain')\n",
    "\n",
    "ax = congress_df.loc['Al_Lawson'].plot(kind='bar', figsize=[14,8], color=\"purple\")\n",
    "\n",
    "ax.set_xlabel(\"Monthly pageviews\")\n",
    "ax.set_ylabel(\"Month\")"
   ]
  },
  {
   "cell_type": "markdown",
   "metadata": {
    "colab_type": "text",
    "id": "3Fzs5zVRg7NA"
   },
   "source": [
    "## Output data\n",
    "\n",
    "We will export these to a folder called data, in csv and excel formats:"
   ]
  },
  {
   "cell_type": "code",
   "execution_count": 33,
   "metadata": {
    "colab": {},
    "colab_type": "code",
    "id": "V7Wie4dmg7NC"
   },
   "outputs": [],
   "source": [
    "house_df.to_csv(\"data/house_views.csv\")\n",
    "house_df.to_excel(\"data/house_views.xlsx\")\n",
    "\n",
    "senate_df.to_csv(\"data/senate_views.csv\")\n",
    "senate_df.to_excel(\"data/senate_views.xlsx\")"
   ]
  },
  {
   "cell_type": "code",
   "execution_count": null,
   "metadata": {},
   "outputs": [],
   "source": []
  }
 ],
 "metadata": {
  "colab": {
   "name": "pageviews-congress.ipynb",
   "provenance": [],
   "version": "0.3.2"
  },
  "kernelspec": {
   "display_name": "Python 3",
   "language": "python",
   "name": "python3"
  },
  "language_info": {
   "codemirror_mode": {
    "name": "ipython",
    "version": 3
   },
   "file_extension": ".py",
   "mimetype": "text/x-python",
   "name": "python",
   "nbconvert_exporter": "python",
   "pygments_lexer": "ipython3",
   "version": "3.6.8"
  }
 },
 "nbformat": 4,
 "nbformat_minor": 1
}
