{
 "cells": [
  {
   "cell_type": "code",
   "execution_count": 1,
   "metadata": {
    "collapsed": false
   },
   "outputs": [
    {
     "name": "stdout",
     "output_type": "stream",
     "text": [
      "total 57M\r\n",
      "drwxr-sr-x 3 tools.paws tools.paws 4.0K Mar  8 19:54 .\r\n",
      "drwxr-sr-x 7 tools.paws tools.paws 4.0K Mar  8 18:09 ..\r\n",
      "drwxr-sr-x 2 tools.paws tools.paws 4.0K Mar  8 19:54 .ipynb_checkpoints\r\n",
      "-rw-r--r-- 1 tools.paws tools.paws  27M Mar  8 18:18 enwiki-redirects-endash-20170308.tsv\r\n",
      "-rw-r--r-- 1 tools.paws tools.paws 5.1K Mar  8 19:55 enwiki-redirects-endash-errors.pickle\r\n",
      "-rw-r--r-- 1 tools.paws tools.paws 4.6K Mar  8 19:55 enwiki-redirects-endash-errors.tsv\r\n",
      "-rw-r--r-- 1 tools.paws tools.paws 2.2M Mar  8 19:55 enwiki-redirects-endash-processed.pickle\r\n",
      "-rw-r--r-- 1 tools.paws tools.paws 2.1M Mar  8 19:55 enwiki-redirects-endash-processed.tsv\r\n",
      "-rw-r--r-- 1 tools.paws tools.paws  27M Mar  8 18:09 enwiki-redirects-to-endash-20170308.tsv\r\n",
      "-rw-r--r-- 1 tools.paws tools.paws 1.7K Mar  8 19:29 get_data.py\r\n",
      "-rw-r--r-- 1 tools.paws tools.paws  25K Mar  8 19:54 process-visualize.ipynb\r\n",
      "-rw-r--r-- 1 tools.paws tools.paws 171K Mar  8 19:36 redirects.ipynb\r\n"
     ]
    }
   ],
   "source": [
    "!ls -lah"
   ]
  },
  {
   "cell_type": "code",
   "execution_count": 2,
   "metadata": {
    "collapsed": false
   },
   "outputs": [
    {
     "name": "stdout",
     "output_type": "stream",
     "text": [
      "11761 enwiki-redirects-endash-processed.tsv\r\n"
     ]
    }
   ],
   "source": [
    "!wc -l enwiki-redirects-endash-processed.tsv"
   ]
  },
  {
   "cell_type": "code",
   "execution_count": 3,
   "metadata": {
    "collapsed": false
   },
   "outputs": [
    {
     "name": "stdout",
     "output_type": "stream",
     "text": [
      "Namiba/124th_Maine_Senate\r\n",
      "Articles_for_creation/12:00_a.m._-_1:00_a.m.\r\n",
      "Rmallett/1877_Wimbledon_Championship_–_Singles\r\n",
      "Rmallett/1877_Wimbledon_Championship_-_Singles\r\n",
      "Rmallett/1878_Wimbledon_Championship_–_Singles\r\n",
      "Rmallett/1878_Wimbledon_Championship_-_Singles\r\n",
      "Rmallett/1879_Wimbledon_Championship_–_Singles\r\n",
      "Rmallett/1879_Wimbledon_Championship_-_Singles\r\n",
      "Rmallett/1880_Wimbledon_Championship_-_Singles\r\n",
      "Rmallett/1881_Wimbledon_Championship_-_Singles\r\n"
     ]
    }
   ],
   "source": [
    "!head enwiki-redirects-endash-errors.tsv"
   ]
  },
  {
   "cell_type": "code",
   "execution_count": 4,
   "metadata": {
    "collapsed": false
   },
   "outputs": [],
   "source": [
    "import pickle"
   ]
  },
  {
   "cell_type": "code",
   "execution_count": 5,
   "metadata": {
    "collapsed": true
   },
   "outputs": [],
   "source": [
    "import pandas as pd\n",
    "import matplotlib.pyplot as plt\n",
    "import seaborn as sns\n",
    "%matplotlib inline"
   ]
  },
  {
   "cell_type": "code",
   "execution_count": 6,
   "metadata": {
    "collapsed": false
   },
   "outputs": [
    {
     "data": {
      "text/plain": [
       "7413"
      ]
     },
     "execution_count": 6,
     "metadata": {},
     "output_type": "execute_result"
    }
   ],
   "source": [
    "pkl_file = open(\"enwiki-redirects-endash-processed.pickle\", 'rb')\n",
    "df = pickle.load(pkl_file)\n",
    "len(df)\n"
   ]
  },
  {
   "cell_type": "code",
   "execution_count": 7,
   "metadata": {
    "collapsed": false
   },
   "outputs": [
    {
     "data": {
      "text/html": [
       "<div>\n",
       "<table border=\"1\" class=\"dataframe\">\n",
       "  <thead>\n",
       "    <tr style=\"text-align: right;\">\n",
       "      <th></th>\n",
       "      <th>revid</th>\n",
       "      <th>timestamp</th>\n",
       "      <th>user</th>\n",
       "      <th>comment</th>\n",
       "      <th>is_redirect</th>\n",
       "      <th>page_title</th>\n",
       "      <th>page_namespace</th>\n",
       "      <th>page_text</th>\n",
       "    </tr>\n",
       "  </thead>\n",
       "  <tbody>\n",
       "    <tr>\n",
       "      <th>0</th>\n",
       "      <td>334052434.0</td>\n",
       "      <td>2009-12-26T04:55:57Z</td>\n",
       "      <td>DASHBot</td>\n",
       "      <td>moved [[\"FF.SS.\" - Cioè: \"...che mi hai portat...</td>\n",
       "      <td>True</td>\n",
       "      <td>\"FF.SS.\" - Cioè: \"...che mi hai portato a fare...</td>\n",
       "      <td>0.0</td>\n",
       "      <td>#REDIRECT [[\"FF.SS.\" – Cioè: \"...che mi hai po...</td>\n",
       "    </tr>\n",
       "    <tr>\n",
       "      <th>0</th>\n",
       "      <td>415186497.0</td>\n",
       "      <td>2011-02-21T19:55:28Z</td>\n",
       "      <td>DerBorg</td>\n",
       "      <td>[[WP:AES|←]]Redirected page to [[\"FF.SS.\" – Ci...</td>\n",
       "      <td>True</td>\n",
       "      <td>FF.SS.</td>\n",
       "      <td>0.0</td>\n",
       "      <td>#REDIRECT [[\"FF.SS.\" – Cioè: \"...che mi hai po...</td>\n",
       "    </tr>\n",
       "    <tr>\n",
       "      <th>0</th>\n",
       "      <td>475846929.0</td>\n",
       "      <td>2012-02-08T23:25:55Z</td>\n",
       "      <td>RjwilmsiBot</td>\n",
       "      <td>Create redirect for title with diacritics usin...</td>\n",
       "      <td>True</td>\n",
       "      <td>\"FF.SS.\" – Cioe: \"...che mi hai portato a fare...</td>\n",
       "      <td>0.0</td>\n",
       "      <td>#REDIRECT [[\"FF.SS.\" – Cioè: \"...che mi hai po...</td>\n",
       "    </tr>\n",
       "    <tr>\n",
       "      <th>0</th>\n",
       "      <td>586979837.0</td>\n",
       "      <td>2013-12-20T17:31:33Z</td>\n",
       "      <td>Cavarrone</td>\n",
       "      <td>[[WP:AES|←]]Redirected page to [[\"FF.SS.\" – Ci...</td>\n",
       "      <td>True</td>\n",
       "      <td>F.F.S.S., cioè.. che mi hai portato a fare sop...</td>\n",
       "      <td>0.0</td>\n",
       "      <td>#REDIRECT [[\"FF.SS.\" – Cioè: \"...che mi hai po...</td>\n",
       "    </tr>\n",
       "    <tr>\n",
       "      <th>0</th>\n",
       "      <td>708965298.0</td>\n",
       "      <td>2016-03-08T12:52:52Z</td>\n",
       "      <td>AnomieBOT</td>\n",
       "      <td>Redirecting to [[:\"FF.SS.\" – Cioe: \"...che mi ...</td>\n",
       "      <td>True</td>\n",
       "      <td>\"FF.SS.\" - Cioe: \"...che mi hai portato a fare...</td>\n",
       "      <td>0.0</td>\n",
       "      <td>#REDIRECT [[:\"FF.SS.\" – Cioè: \"...che mi hai p...</td>\n",
       "    </tr>\n",
       "  </tbody>\n",
       "</table>\n",
       "</div>"
      ],
      "text/plain": [
       "         revid             timestamp         user  \\\n",
       "0  334052434.0  2009-12-26T04:55:57Z      DASHBot   \n",
       "0  415186497.0  2011-02-21T19:55:28Z      DerBorg   \n",
       "0  475846929.0  2012-02-08T23:25:55Z  RjwilmsiBot   \n",
       "0  586979837.0  2013-12-20T17:31:33Z    Cavarrone   \n",
       "0  708965298.0  2016-03-08T12:52:52Z    AnomieBOT   \n",
       "\n",
       "                                             comment is_redirect  \\\n",
       "0  moved [[\"FF.SS.\" - Cioè: \"...che mi hai portat...        True   \n",
       "0  [[WP:AES|←]]Redirected page to [[\"FF.SS.\" – Ci...        True   \n",
       "0  Create redirect for title with diacritics usin...        True   \n",
       "0  [[WP:AES|←]]Redirected page to [[\"FF.SS.\" – Ci...        True   \n",
       "0  Redirecting to [[:\"FF.SS.\" – Cioe: \"...che mi ...        True   \n",
       "\n",
       "                                          page_title  page_namespace  \\\n",
       "0  \"FF.SS.\" - Cioè: \"...che mi hai portato a fare...             0.0   \n",
       "0                                             FF.SS.             0.0   \n",
       "0  \"FF.SS.\" – Cioe: \"...che mi hai portato a fare...             0.0   \n",
       "0  F.F.S.S., cioè.. che mi hai portato a fare sop...             0.0   \n",
       "0  \"FF.SS.\" - Cioe: \"...che mi hai portato a fare...             0.0   \n",
       "\n",
       "                                           page_text  \n",
       "0  #REDIRECT [[\"FF.SS.\" – Cioè: \"...che mi hai po...  \n",
       "0  #REDIRECT [[\"FF.SS.\" – Cioè: \"...che mi hai po...  \n",
       "0  #REDIRECT [[\"FF.SS.\" – Cioè: \"...che mi hai po...  \n",
       "0  #REDIRECT [[\"FF.SS.\" – Cioè: \"...che mi hai po...  \n",
       "0  #REDIRECT [[:\"FF.SS.\" – Cioè: \"...che mi hai p...  "
      ]
     },
     "execution_count": 7,
     "metadata": {},
     "output_type": "execute_result"
    }
   ],
   "source": [
    "df[0:5]"
   ]
  },
  {
   "cell_type": "code",
   "execution_count": 8,
   "metadata": {
    "collapsed": false
   },
   "outputs": [],
   "source": [
    "df['datetime'] = pd.to_datetime(df.timestamp)\n",
    "df = df.set_index('datetime')"
   ]
  },
  {
   "cell_type": "code",
   "execution_count": 9,
   "metadata": {
    "collapsed": false
   },
   "outputs": [],
   "source": [
    "gp = df.groupby([pd.TimeGrouper('1D', closed='left')])"
   ]
  },
  {
   "cell_type": "code",
   "execution_count": 10,
   "metadata": {
    "collapsed": false
   },
   "outputs": [
    {
     "data": {
      "text/plain": [
       "<matplotlib.axes._subplots.AxesSubplot at 0x7f467e7e01d0>"
      ]
     },
     "execution_count": 10,
     "metadata": {},
     "output_type": "execute_result"
    },
    {
     "name": "stderr",
     "output_type": "stream",
     "text": [
      "/srv/paws/lib/python3.4/site-packages/matplotlib/font_manager.py:1297: UserWarning: findfont: Font family ['sans-serif'] not found. Falling back to DejaVu Sans\n",
      "  (prop.get_family(), self.defaultFamily[fontext]))\n"
     ]
    },
    {
     "data": {
      "image/png": "[encoded data removed]",
      "text/plain": [
       "<matplotlib.figure.Figure at 0x7f467ea5f940>"
      ]
     },
     "metadata": {},
     "output_type": "display_data"
    }
   ],
   "source": [
    "gp.revid.count().plot()"
   ]
  },
  {
   "cell_type": "code",
   "execution_count": null,
   "metadata": {
    "collapsed": true
   },
   "outputs": [],
   "source": []
  },
  {
   "cell_type": "code",
   "execution_count": null,
   "metadata": {
    "collapsed": true
   },
   "outputs": [],
   "source": []
  },
  {
   "cell_type": "code",
   "execution_count": null,
   "metadata": {
    "collapsed": true
   },
   "outputs": [],
   "source": []
  },
  {
   "cell_type": "code",
   "execution_count": 11,
   "metadata": {
    "collapsed": false
   },
   "outputs": [
    {
     "data": {
      "text/plain": [
       "7413"
      ]
     },
     "execution_count": 11,
     "metadata": {},
     "output_type": "execute_result"
    }
   ],
   "source": [
    "pkl_file = open(\"enwiki-redirects-endash-processed.pickle\", 'rb')\n",
    "df = pickle.load(pkl_file)\n",
    "len(df)"
   ]
  }
 ],
 "metadata": {
  "kernelspec": {
   "display_name": "Python 3",
   "language": "python",
   "name": "python3"
  },
  "language_info": {
   "codemirror_mode": {
    "name": "ipython",
    "version": 3
   },
   "file_extension": ".py",
   "mimetype": "text/x-python",
   "name": "python",
   "nbconvert_exporter": "python",
   "pygments_lexer": "ipython3",
   "version": "3.4.2"
  }
 },
 "nbformat": 4,
 "nbformat_minor": 2
}
