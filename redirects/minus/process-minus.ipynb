{
 "cells": [
  {
   "cell_type": "code",
   "execution_count": 1,
   "metadata": {
    "collapsed": true
   },
   "outputs": [],
   "source": [
    "import pickle\n",
    "import pandas as pd\n",
    "import matplotlib.pyplot as plt\n",
    "import seaborn as sns\n",
    "%matplotlib inline"
   ]
  },
  {
   "cell_type": "code",
   "execution_count": 2,
   "metadata": {
    "collapsed": false
   },
   "outputs": [
    {
     "data": {
      "text/plain": [
       "217066"
      ]
     },
     "execution_count": 2,
     "metadata": {},
     "output_type": "execute_result"
    }
   ],
   "source": [
    "pkl_file = open(\"enwiki-redirects-minus-processed.pickle\", 'rb')\n",
    "df = pickle.load(pkl_file)\n",
    "len(df)\n"
   ]
  },
  {
   "cell_type": "code",
   "execution_count": 3,
   "metadata": {
    "collapsed": false
   },
   "outputs": [
    {
     "name": "stdout",
     "output_type": "stream",
     "text": [
      "#redirect[[9–9–9_Plan]] 12\n",
      "#REDIRECT [['A' You're Adorable]] -1\n",
      "#REDIRECT [[A, My Name is Alex – Parts I & II]] {{R from modification}} 31\n",
      "#REDIRECT [[Abd El Gilil]]\n",
      "{{R from title without diacritics}} -1\n",
      "#REDIRECT [[Abd El Gilil]] {{R from modification}} -1\n"
     ]
    }
   ],
   "source": [
    "for x in df[0:5].iterrows():\n",
    "    print(x[1].page_text, x[1].page_text.find(\"–\"))"
   ]
  },
  {
   "cell_type": "code",
   "execution_count": 4,
   "metadata": {
    "collapsed": true
   },
   "outputs": [],
   "source": [
    "def is_endash_redirect(row):\n",
    "    page_text = row.page_text\n",
    "    page_title = row.page_title\n",
    "    \n",
    "    title_dash_loc = page_title.find(\"-\")\n",
    "    text_dash_loc = page_text.find(\"–\")\n",
    "        \n",
    "    if text_dash_loc == -1 or title_dash_loc == -1:\n",
    "        return False\n",
    "    \n",
    "    sep = text_dash_loc - title_dash_loc\n",
    "    \n",
    "    if sep > 10 or sep < 14:\n",
    "        return True\n",
    "    else:\n",
    "        return False"
   ]
  },
  {
   "cell_type": "code",
   "execution_count": 5,
   "metadata": {
    "collapsed": false
   },
   "outputs": [
    {
     "data": {
      "text/plain": [
       "False    114314\n",
       "True     102752\n",
       "Name: is_endash_redirect, dtype: int64"
      ]
     },
     "execution_count": 5,
     "metadata": {},
     "output_type": "execute_result"
    }
   ],
   "source": [
    "df['is_endash_redirect'] = df.apply(is_endash_redirect, axis=1)\n",
    "\n",
    "df['is_endash_redirect'].value_counts()"
   ]
  },
  {
   "cell_type": "code",
   "execution_count": 6,
   "metadata": {
    "collapsed": false
   },
   "outputs": [
    {
     "data": {
      "text/html": [
       "<div>\n",
       "<table border=\"1\" class=\"dataframe\">\n",
       "  <thead>\n",
       "    <tr style=\"text-align: right;\">\n",
       "      <th></th>\n",
       "      <th>revid</th>\n",
       "      <th>timestamp</th>\n",
       "      <th>user</th>\n",
       "      <th>comment</th>\n",
       "      <th>is_redirect</th>\n",
       "      <th>page_title</th>\n",
       "      <th>page_namespace</th>\n",
       "      <th>page_text</th>\n",
       "      <th>is_endash_redirect</th>\n",
       "    </tr>\n",
       "  </thead>\n",
       "  <tbody>\n",
       "    <tr>\n",
       "      <th>0</th>\n",
       "      <td>458759075.0</td>\n",
       "      <td>2011-11-03T04:42:22Z</td>\n",
       "      <td>Hodgdon's secret garden</td>\n",
       "      <td>9–9–9 plan</td>\n",
       "      <td>True</td>\n",
       "      <td>\"9-9-9\" plan</td>\n",
       "      <td>0.0</td>\n",
       "      <td>#redirect[[9–9–9_Plan]]</td>\n",
       "      <td>True</td>\n",
       "    </tr>\n",
       "    <tr>\n",
       "      <th>0</th>\n",
       "      <td>458759075.0</td>\n",
       "      <td>2011-11-03T04:42:22Z</td>\n",
       "      <td>Hodgdon's secret garden</td>\n",
       "      <td>9–9–9 plan</td>\n",
       "      <td>True</td>\n",
       "      <td>\"A\" - You're Adorable</td>\n",
       "      <td>0.0</td>\n",
       "      <td>#REDIRECT [['A' You're Adorable]]</td>\n",
       "      <td>False</td>\n",
       "    </tr>\n",
       "    <tr>\n",
       "      <th>0</th>\n",
       "      <td>490413426.0</td>\n",
       "      <td>2012-05-03T04:28:55Z</td>\n",
       "      <td>DASHBot</td>\n",
       "      <td>DASHBot moved page [[\"A,\" My Name is Alex - Pa...</td>\n",
       "      <td>True</td>\n",
       "      <td>\"A,\" My Name is Alex - Parts I &amp; II</td>\n",
       "      <td>0.0</td>\n",
       "      <td>#REDIRECT [[A, My Name is Alex – Parts I &amp; II]...</td>\n",
       "      <td>True</td>\n",
       "    </tr>\n",
       "    <tr>\n",
       "      <th>0</th>\n",
       "      <td>490413426.0</td>\n",
       "      <td>2012-05-03T04:28:55Z</td>\n",
       "      <td>DASHBot</td>\n",
       "      <td>DASHBot moved page [[\"A,\" My Name is Alex - Pa...</td>\n",
       "      <td>True</td>\n",
       "      <td>\"Abd el-Gilil</td>\n",
       "      <td>0.0</td>\n",
       "      <td>#REDIRECT [[Abd El Gilil]]\\n{{R from title wit...</td>\n",
       "      <td>False</td>\n",
       "    </tr>\n",
       "    <tr>\n",
       "      <th>0</th>\n",
       "      <td>490413426.0</td>\n",
       "      <td>2012-05-03T04:28:55Z</td>\n",
       "      <td>DASHBot</td>\n",
       "      <td>DASHBot moved page [[\"A,\" My Name is Alex - Pa...</td>\n",
       "      <td>True</td>\n",
       "      <td>\"Abd el-Gilîl</td>\n",
       "      <td>0.0</td>\n",
       "      <td>#REDIRECT [[Abd El Gilil]] {{R from modificati...</td>\n",
       "      <td>False</td>\n",
       "    </tr>\n",
       "  </tbody>\n",
       "</table>\n",
       "</div>"
      ],
      "text/plain": [
       "         revid             timestamp                     user  \\\n",
       "0  458759075.0  2011-11-03T04:42:22Z  Hodgdon's secret garden   \n",
       "0  458759075.0  2011-11-03T04:42:22Z  Hodgdon's secret garden   \n",
       "0  490413426.0  2012-05-03T04:28:55Z                  DASHBot   \n",
       "0  490413426.0  2012-05-03T04:28:55Z                  DASHBot   \n",
       "0  490413426.0  2012-05-03T04:28:55Z                  DASHBot   \n",
       "\n",
       "                                             comment is_redirect  \\\n",
       "0                                         9–9–9 plan        True   \n",
       "0                                         9–9–9 plan        True   \n",
       "0  DASHBot moved page [[\"A,\" My Name is Alex - Pa...        True   \n",
       "0  DASHBot moved page [[\"A,\" My Name is Alex - Pa...        True   \n",
       "0  DASHBot moved page [[\"A,\" My Name is Alex - Pa...        True   \n",
       "\n",
       "                            page_title  page_namespace  \\\n",
       "0                         \"9-9-9\" plan             0.0   \n",
       "0                \"A\" - You're Adorable             0.0   \n",
       "0  \"A,\" My Name is Alex - Parts I & II             0.0   \n",
       "0                        \"Abd el-Gilil             0.0   \n",
       "0                        \"Abd el-Gilîl             0.0   \n",
       "\n",
       "                                           page_text is_endash_redirect  \n",
       "0                            #redirect[[9–9–9_Plan]]               True  \n",
       "0                  #REDIRECT [['A' You're Adorable]]              False  \n",
       "0  #REDIRECT [[A, My Name is Alex – Parts I & II]...               True  \n",
       "0  #REDIRECT [[Abd El Gilil]]\\n{{R from title wit...              False  \n",
       "0  #REDIRECT [[Abd El Gilil]] {{R from modificati...              False  "
      ]
     },
     "execution_count": 6,
     "metadata": {},
     "output_type": "execute_result"
    }
   ],
   "source": [
    "df[0:5]"
   ]
  },
  {
   "cell_type": "code",
   "execution_count": 7,
   "metadata": {
    "collapsed": false
   },
   "outputs": [],
   "source": [
    "total_df = df[df.is_endash_redirect == True].copy()"
   ]
  },
  {
   "cell_type": "code",
   "execution_count": 8,
   "metadata": {
    "collapsed": true
   },
   "outputs": [],
   "source": [
    "total_df['datetime'] = pd.to_datetime(total_df['timestamp'])\n"
   ]
  },
  {
   "cell_type": "code",
   "execution_count": 9,
   "metadata": {
    "collapsed": false
   },
   "outputs": [],
   "source": [
    "total_df = total_df.set_index('datetime')"
   ]
  },
  {
   "cell_type": "code",
   "execution_count": 20,
   "metadata": {
    "collapsed": false
   },
   "outputs": [],
   "source": [
    "gp = total_df.groupby([pd.TimeGrouper('3D', closed='left')])"
   ]
  },
  {
   "cell_type": "code",
   "execution_count": 21,
   "metadata": {
    "collapsed": false,
    "scrolled": true
   },
   "outputs": [
    {
     "name": "stderr",
     "output_type": "stream",
     "text": [
      "/srv/paws/lib/python3.4/site-packages/matplotlib/font_manager.py:1297: UserWarning: findfont: Font family ['sans-serif'] not found. Falling back to DejaVu Sans\n",
      "  (prop.get_family(), self.defaultFamily[fontext]))\n"
     ]
    },
    {
     "data": {
      "image/png": "[encoded data removed]",
      "text/plain": [
       "<matplotlib.figure.Figure at 0x7f6c23a9c748>"
      ]
     },
     "metadata": {},
     "output_type": "display_data"
    }
   ],
   "source": [
    "ax = gp.revid.count().plot(kind='line', figsize=[14,6], logy=False)\n"
   ]
  },
  {
   "cell_type": "code",
   "execution_count": null,
   "metadata": {
    "collapsed": true
   },
   "outputs": [],
   "source": []
  }
 ],
 "metadata": {
  "kernelspec": {
   "display_name": "Python 3",
   "language": "python",
   "name": "python3"
  },
  "language_info": {
   "codemirror_mode": {
    "name": "ipython",
    "version": 3
   },
   "file_extension": ".py",
   "mimetype": "text/x-python",
   "name": "python",
   "nbconvert_exporter": "python",
   "pygments_lexer": "ipython3",
   "version": "3.4.2"
  }
 },
 "nbformat": 4,
 "nbformat_minor": 2
}
